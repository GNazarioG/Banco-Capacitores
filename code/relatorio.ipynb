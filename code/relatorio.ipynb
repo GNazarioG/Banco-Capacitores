{
 "cells": [
  {
   "cell_type": "markdown",
   "metadata": {},
   "source": [
    "<h1 align = 'center'>Trabalho de Circuitos Elétricos II<h1/>\n",
    "\n",
    "<p align = 'center'>\n",
    "    <img src = '../docs/logo.jpeg'/>\n",
    "<p/>"
   ]
  },
  {
   "cell_type": "markdown",
   "metadata": {},
   "source": [
    "Este projeto tem como objetivo o estudo referente ao dimensionamento de um Banco de Capacitores.\n",
    "\n",
    "Desenvolvedores:\n",
    "\n",
    "- André Vitor Cadena de Oliveira\n",
    "- Fábio Augusto Almeida Marçal\n",
    "- Gabriel Nazário Gonçalves\n",
    "- Lorenzo Carrera de Oliveira\n",
    "- Mateus Pincho de Oliveira\n",
    "\n",
    "---"
   ]
  },
  {
   "cell_type": "code",
   "execution_count": 142,
   "metadata": {},
   "outputs": [],
   "source": [
    "# Importando os módulos utilizados...\n",
    "import numpy as np\n",
    "import pandas as pd\n",
    "import plotly.graph_objects as go\n",
    "\n",
    "df = pd.read_csv('curvas_de_carga_da_industria.csv') # Constrói um dataframe pandas com os dados fornecidos\n",
    "df.index = np.full(24, '') # Esconde a indexação do dataframe"
   ]
  },
  {
   "cell_type": "markdown",
   "metadata": {},
   "source": [
    "## Questão 1\n",
    "\n",
    "Uma industria de médio porte identificou multas na fatura de energia elétrica 1 mês após instalar um gerador distribuído fotovoltaico para reduzir os custos. Um engenheiro eletricista, contratado  pela industria, realizou a medição de potência na saída do gerador fotovoltaico, utilizando um analisador de energia Fluke 435. \n",
    "\n",
    "As curvas de potência ativa e reativa da indústria antes da instalação do gerador e a curva de potência injetada pelo gerador, discretizadas em períodos de 1 em 1 hora, estão apresentadas em `curvas_de_carga_da_industria.csv`. A partir dessas curvas, projete um **Quadro para Correção do Fator de Potência** , utilizando um controlador de carga capaz de realizar a inserção de 6 células capacitivas em paralelo. \n",
    "\n",
    "Para o dimensionamento, considere como fator de potência mínimo o valor mencionado no Modulo 7 do PRODIST/ANEEL. \n",
    "\n",
    "**OBS:** fator de potência mínimo exigido = $0,92$.\n",
    "\n",
    "--- "
   ]
  },
  {
   "cell_type": "markdown",
   "metadata": {},
   "source": [
    "## Produção da Indústria\n",
    "\n",
    "Primeiramente, avalia-se quanto de potência ativa a indústria de fato está consumindo. Como ela tem a sua disposição um gerador distribuído fotovoltaico, haverá um abatimento na potência total consumida, de modo que:\n",
    "\n",
    "$$P_{total} = P_{consumida} - P_{gerador}$$\n",
    "\n",
    "---"
   ]
  },
  {
   "cell_type": "code",
   "execution_count": 143,
   "metadata": {},
   "outputs": [
    {
     "data": {
      "application/vnd.plotly.v1+json": {
       "config": {
        "plotlyServerURL": "https://plot.ly"
       },
       "data": [
        {
         "name": "Potência Geradora",
         "type": "scatter",
         "x": [
          0,
          1,
          2,
          3,
          4,
          5,
          6,
          7,
          8,
          9,
          10,
          11,
          12,
          13,
          14,
          15,
          16,
          17,
          18,
          19,
          20,
          21,
          22,
          23
         ],
         "y": [
          0,
          0,
          0,
          0,
          0,
          0,
          11.95,
          35.04,
          69.97,
          83.69,
          126.95,
          136.75,
          130.83,
          124.58,
          106.81,
          76.97,
          42.93,
          9.94,
          0,
          0,
          0,
          0,
          0,
          0
         ]
        },
        {
         "name": "Potência Consumida",
         "type": "scatter",
         "x": [
          0,
          1,
          2,
          3,
          4,
          5,
          6,
          7,
          8,
          9,
          10,
          11,
          12,
          13,
          14,
          15,
          16,
          17,
          18,
          19,
          20,
          21,
          22,
          23
         ],
         "y": [
          105.92,
          98.56,
          98.36,
          95.93,
          93.73,
          87.25,
          95.93,
          110,
          130,
          156,
          160,
          176,
          176,
          180,
          160,
          130.1,
          161.32,
          153.07,
          19.06,
          20,
          20,
          110.71,
          108.1,
          102.11
         ]
        },
        {
         "line": {
          "dash": "dash",
          "width": 4
         },
         "name": "Potência Total",
         "type": "scatter",
         "x": [
          0,
          1,
          2,
          3,
          4,
          5,
          6,
          7,
          8,
          9,
          10,
          11,
          12,
          13,
          14,
          15,
          16,
          17,
          18,
          19,
          20,
          21,
          22,
          23
         ],
         "y": [
          105.92,
          98.56,
          98.36,
          95.93,
          93.73,
          87.25,
          83.98,
          74.96000000000001,
          60.03,
          72.31,
          33.05,
          39.25,
          45.16999999999999,
          55.42,
          53.19,
          53.129999999999995,
          118.38999999999999,
          143.13,
          19.06,
          20,
          20,
          110.71,
          108.1,
          102.11
         ]
        }
       ],
       "layout": {
        "font": {
         "color": "black",
         "family": "Arial",
         "size": 15
        },
        "legend": {
         "title": {
          "text": "Cargas Ativas"
         }
        },
        "plot_bgcolor": "white",
        "template": {
         "data": {
          "bar": [
           {
            "error_x": {
             "color": "#2a3f5f"
            },
            "error_y": {
             "color": "#2a3f5f"
            },
            "marker": {
             "line": {
              "color": "#E5ECF6",
              "width": 0.5
             },
             "pattern": {
              "fillmode": "overlay",
              "size": 10,
              "solidity": 0.2
             }
            },
            "type": "bar"
           }
          ],
          "barpolar": [
           {
            "marker": {
             "line": {
              "color": "#E5ECF6",
              "width": 0.5
             },
             "pattern": {
              "fillmode": "overlay",
              "size": 10,
              "solidity": 0.2
             }
            },
            "type": "barpolar"
           }
          ],
          "carpet": [
           {
            "aaxis": {
             "endlinecolor": "#2a3f5f",
             "gridcolor": "white",
             "linecolor": "white",
             "minorgridcolor": "white",
             "startlinecolor": "#2a3f5f"
            },
            "baxis": {
             "endlinecolor": "#2a3f5f",
             "gridcolor": "white",
             "linecolor": "white",
             "minorgridcolor": "white",
             "startlinecolor": "#2a3f5f"
            },
            "type": "carpet"
           }
          ],
          "choropleth": [
           {
            "colorbar": {
             "outlinewidth": 0,
             "ticks": ""
            },
            "type": "choropleth"
           }
          ],
          "contour": [
           {
            "colorbar": {
             "outlinewidth": 0,
             "ticks": ""
            },
            "colorscale": [
             [
              0,
              "#0d0887"
             ],
             [
              0.1111111111111111,
              "#46039f"
             ],
             [
              0.2222222222222222,
              "#7201a8"
             ],
             [
              0.3333333333333333,
              "#9c179e"
             ],
             [
              0.4444444444444444,
              "#bd3786"
             ],
             [
              0.5555555555555556,
              "#d8576b"
             ],
             [
              0.6666666666666666,
              "#ed7953"
             ],
             [
              0.7777777777777778,
              "#fb9f3a"
             ],
             [
              0.8888888888888888,
              "#fdca26"
             ],
             [
              1,
              "#f0f921"
             ]
            ],
            "type": "contour"
           }
          ],
          "contourcarpet": [
           {
            "colorbar": {
             "outlinewidth": 0,
             "ticks": ""
            },
            "type": "contourcarpet"
           }
          ],
          "heatmap": [
           {
            "colorbar": {
             "outlinewidth": 0,
             "ticks": ""
            },
            "colorscale": [
             [
              0,
              "#0d0887"
             ],
             [
              0.1111111111111111,
              "#46039f"
             ],
             [
              0.2222222222222222,
              "#7201a8"
             ],
             [
              0.3333333333333333,
              "#9c179e"
             ],
             [
              0.4444444444444444,
              "#bd3786"
             ],
             [
              0.5555555555555556,
              "#d8576b"
             ],
             [
              0.6666666666666666,
              "#ed7953"
             ],
             [
              0.7777777777777778,
              "#fb9f3a"
             ],
             [
              0.8888888888888888,
              "#fdca26"
             ],
             [
              1,
              "#f0f921"
             ]
            ],
            "type": "heatmap"
           }
          ],
          "heatmapgl": [
           {
            "colorbar": {
             "outlinewidth": 0,
             "ticks": ""
            },
            "colorscale": [
             [
              0,
              "#0d0887"
             ],
             [
              0.1111111111111111,
              "#46039f"
             ],
             [
              0.2222222222222222,
              "#7201a8"
             ],
             [
              0.3333333333333333,
              "#9c179e"
             ],
             [
              0.4444444444444444,
              "#bd3786"
             ],
             [
              0.5555555555555556,
              "#d8576b"
             ],
             [
              0.6666666666666666,
              "#ed7953"
             ],
             [
              0.7777777777777778,
              "#fb9f3a"
             ],
             [
              0.8888888888888888,
              "#fdca26"
             ],
             [
              1,
              "#f0f921"
             ]
            ],
            "type": "heatmapgl"
           }
          ],
          "histogram": [
           {
            "marker": {
             "pattern": {
              "fillmode": "overlay",
              "size": 10,
              "solidity": 0.2
             }
            },
            "type": "histogram"
           }
          ],
          "histogram2d": [
           {
            "colorbar": {
             "outlinewidth": 0,
             "ticks": ""
            },
            "colorscale": [
             [
              0,
              "#0d0887"
             ],
             [
              0.1111111111111111,
              "#46039f"
             ],
             [
              0.2222222222222222,
              "#7201a8"
             ],
             [
              0.3333333333333333,
              "#9c179e"
             ],
             [
              0.4444444444444444,
              "#bd3786"
             ],
             [
              0.5555555555555556,
              "#d8576b"
             ],
             [
              0.6666666666666666,
              "#ed7953"
             ],
             [
              0.7777777777777778,
              "#fb9f3a"
             ],
             [
              0.8888888888888888,
              "#fdca26"
             ],
             [
              1,
              "#f0f921"
             ]
            ],
            "type": "histogram2d"
           }
          ],
          "histogram2dcontour": [
           {
            "colorbar": {
             "outlinewidth": 0,
             "ticks": ""
            },
            "colorscale": [
             [
              0,
              "#0d0887"
             ],
             [
              0.1111111111111111,
              "#46039f"
             ],
             [
              0.2222222222222222,
              "#7201a8"
             ],
             [
              0.3333333333333333,
              "#9c179e"
             ],
             [
              0.4444444444444444,
              "#bd3786"
             ],
             [
              0.5555555555555556,
              "#d8576b"
             ],
             [
              0.6666666666666666,
              "#ed7953"
             ],
             [
              0.7777777777777778,
              "#fb9f3a"
             ],
             [
              0.8888888888888888,
              "#fdca26"
             ],
             [
              1,
              "#f0f921"
             ]
            ],
            "type": "histogram2dcontour"
           }
          ],
          "mesh3d": [
           {
            "colorbar": {
             "outlinewidth": 0,
             "ticks": ""
            },
            "type": "mesh3d"
           }
          ],
          "parcoords": [
           {
            "line": {
             "colorbar": {
              "outlinewidth": 0,
              "ticks": ""
             }
            },
            "type": "parcoords"
           }
          ],
          "pie": [
           {
            "automargin": true,
            "type": "pie"
           }
          ],
          "scatter": [
           {
            "fillpattern": {
             "fillmode": "overlay",
             "size": 10,
             "solidity": 0.2
            },
            "type": "scatter"
           }
          ],
          "scatter3d": [
           {
            "line": {
             "colorbar": {
              "outlinewidth": 0,
              "ticks": ""
             }
            },
            "marker": {
             "colorbar": {
              "outlinewidth": 0,
              "ticks": ""
             }
            },
            "type": "scatter3d"
           }
          ],
          "scattercarpet": [
           {
            "marker": {
             "colorbar": {
              "outlinewidth": 0,
              "ticks": ""
             }
            },
            "type": "scattercarpet"
           }
          ],
          "scattergeo": [
           {
            "marker": {
             "colorbar": {
              "outlinewidth": 0,
              "ticks": ""
             }
            },
            "type": "scattergeo"
           }
          ],
          "scattergl": [
           {
            "marker": {
             "colorbar": {
              "outlinewidth": 0,
              "ticks": ""
             }
            },
            "type": "scattergl"
           }
          ],
          "scattermapbox": [
           {
            "marker": {
             "colorbar": {
              "outlinewidth": 0,
              "ticks": ""
             }
            },
            "type": "scattermapbox"
           }
          ],
          "scatterpolar": [
           {
            "marker": {
             "colorbar": {
              "outlinewidth": 0,
              "ticks": ""
             }
            },
            "type": "scatterpolar"
           }
          ],
          "scatterpolargl": [
           {
            "marker": {
             "colorbar": {
              "outlinewidth": 0,
              "ticks": ""
             }
            },
            "type": "scatterpolargl"
           }
          ],
          "scatterternary": [
           {
            "marker": {
             "colorbar": {
              "outlinewidth": 0,
              "ticks": ""
             }
            },
            "type": "scatterternary"
           }
          ],
          "surface": [
           {
            "colorbar": {
             "outlinewidth": 0,
             "ticks": ""
            },
            "colorscale": [
             [
              0,
              "#0d0887"
             ],
             [
              0.1111111111111111,
              "#46039f"
             ],
             [
              0.2222222222222222,
              "#7201a8"
             ],
             [
              0.3333333333333333,
              "#9c179e"
             ],
             [
              0.4444444444444444,
              "#bd3786"
             ],
             [
              0.5555555555555556,
              "#d8576b"
             ],
             [
              0.6666666666666666,
              "#ed7953"
             ],
             [
              0.7777777777777778,
              "#fb9f3a"
             ],
             [
              0.8888888888888888,
              "#fdca26"
             ],
             [
              1,
              "#f0f921"
             ]
            ],
            "type": "surface"
           }
          ],
          "table": [
           {
            "cells": {
             "fill": {
              "color": "#EBF0F8"
             },
             "line": {
              "color": "white"
             }
            },
            "header": {
             "fill": {
              "color": "#C8D4E3"
             },
             "line": {
              "color": "white"
             }
            },
            "type": "table"
           }
          ]
         },
         "layout": {
          "annotationdefaults": {
           "arrowcolor": "#2a3f5f",
           "arrowhead": 0,
           "arrowwidth": 1
          },
          "autotypenumbers": "strict",
          "coloraxis": {
           "colorbar": {
            "outlinewidth": 0,
            "ticks": ""
           }
          },
          "colorscale": {
           "diverging": [
            [
             0,
             "#8e0152"
            ],
            [
             0.1,
             "#c51b7d"
            ],
            [
             0.2,
             "#de77ae"
            ],
            [
             0.3,
             "#f1b6da"
            ],
            [
             0.4,
             "#fde0ef"
            ],
            [
             0.5,
             "#f7f7f7"
            ],
            [
             0.6,
             "#e6f5d0"
            ],
            [
             0.7,
             "#b8e186"
            ],
            [
             0.8,
             "#7fbc41"
            ],
            [
             0.9,
             "#4d9221"
            ],
            [
             1,
             "#276419"
            ]
           ],
           "sequential": [
            [
             0,
             "#0d0887"
            ],
            [
             0.1111111111111111,
             "#46039f"
            ],
            [
             0.2222222222222222,
             "#7201a8"
            ],
            [
             0.3333333333333333,
             "#9c179e"
            ],
            [
             0.4444444444444444,
             "#bd3786"
            ],
            [
             0.5555555555555556,
             "#d8576b"
            ],
            [
             0.6666666666666666,
             "#ed7953"
            ],
            [
             0.7777777777777778,
             "#fb9f3a"
            ],
            [
             0.8888888888888888,
             "#fdca26"
            ],
            [
             1,
             "#f0f921"
            ]
           ],
           "sequentialminus": [
            [
             0,
             "#0d0887"
            ],
            [
             0.1111111111111111,
             "#46039f"
            ],
            [
             0.2222222222222222,
             "#7201a8"
            ],
            [
             0.3333333333333333,
             "#9c179e"
            ],
            [
             0.4444444444444444,
             "#bd3786"
            ],
            [
             0.5555555555555556,
             "#d8576b"
            ],
            [
             0.6666666666666666,
             "#ed7953"
            ],
            [
             0.7777777777777778,
             "#fb9f3a"
            ],
            [
             0.8888888888888888,
             "#fdca26"
            ],
            [
             1,
             "#f0f921"
            ]
           ]
          },
          "colorway": [
           "#636efa",
           "#EF553B",
           "#00cc96",
           "#ab63fa",
           "#FFA15A",
           "#19d3f3",
           "#FF6692",
           "#B6E880",
           "#FF97FF",
           "#FECB52"
          ],
          "font": {
           "color": "#2a3f5f"
          },
          "geo": {
           "bgcolor": "white",
           "lakecolor": "white",
           "landcolor": "#E5ECF6",
           "showlakes": true,
           "showland": true,
           "subunitcolor": "white"
          },
          "hoverlabel": {
           "align": "left"
          },
          "hovermode": "closest",
          "mapbox": {
           "style": "light"
          },
          "paper_bgcolor": "white",
          "plot_bgcolor": "#E5ECF6",
          "polar": {
           "angularaxis": {
            "gridcolor": "white",
            "linecolor": "white",
            "ticks": ""
           },
           "bgcolor": "#E5ECF6",
           "radialaxis": {
            "gridcolor": "white",
            "linecolor": "white",
            "ticks": ""
           }
          },
          "scene": {
           "xaxis": {
            "backgroundcolor": "#E5ECF6",
            "gridcolor": "white",
            "gridwidth": 2,
            "linecolor": "white",
            "showbackground": true,
            "ticks": "",
            "zerolinecolor": "white"
           },
           "yaxis": {
            "backgroundcolor": "#E5ECF6",
            "gridcolor": "white",
            "gridwidth": 2,
            "linecolor": "white",
            "showbackground": true,
            "ticks": "",
            "zerolinecolor": "white"
           },
           "zaxis": {
            "backgroundcolor": "#E5ECF6",
            "gridcolor": "white",
            "gridwidth": 2,
            "linecolor": "white",
            "showbackground": true,
            "ticks": "",
            "zerolinecolor": "white"
           }
          },
          "shapedefaults": {
           "line": {
            "color": "#2a3f5f"
           }
          },
          "ternary": {
           "aaxis": {
            "gridcolor": "white",
            "linecolor": "white",
            "ticks": ""
           },
           "baxis": {
            "gridcolor": "white",
            "linecolor": "white",
            "ticks": ""
           },
           "bgcolor": "#E5ECF6",
           "caxis": {
            "gridcolor": "white",
            "linecolor": "white",
            "ticks": ""
           }
          },
          "title": {
           "x": 0.05
          },
          "xaxis": {
           "automargin": true,
           "gridcolor": "white",
           "linecolor": "white",
           "ticks": "",
           "title": {
            "standoff": 15
           },
           "zerolinecolor": "white",
           "zerolinewidth": 2
          },
          "yaxis": {
           "automargin": true,
           "gridcolor": "white",
           "linecolor": "white",
           "ticks": "",
           "title": {
            "standoff": 15
           },
           "zerolinecolor": "white",
           "zerolinewidth": 2
          }
         }
        },
        "title": {
         "text": "Curvas de Carga Ativas"
        },
        "xaxis": {
         "dtick": 1,
         "gridcolor": "lightgray",
         "range": [
          0,
          23
         ],
         "tickmode": "linear",
         "title": {
          "text": "Hora do Dia"
         }
        },
        "yaxis": {
         "gridcolor": "lightgray",
         "title": {
          "text": "Potência (kW)"
         }
        }
       }
      }
     },
     "metadata": {},
     "output_type": "display_data"
    }
   ],
   "source": [
    "# Plotando as Curvas de Cargas Ativas\n",
    "\n",
    "fig = go.Figure()\n",
    "\n",
    "# Parâmetros do Gráfico\n",
    "fig.update_layout(\n",
    "    title='Curvas de Carga Ativas',\n",
    "    xaxis_title='Hora do Dia',\n",
    "    yaxis_title='Potência (kW)',\n",
    "    legend_title='Cargas Ativas',\n",
    "    plot_bgcolor='white',\n",
    "    font=dict(\n",
    "        family='Arial',\n",
    "        size=15,\n",
    "        color='black'\n",
    "    ),\n",
    "    xaxis=dict(\n",
    "        gridcolor='lightgray',\n",
    "        tickmode = 'linear',\n",
    "        dtick = 1,\n",
    "        range=[0,23]\n",
    "    ),\n",
    "    yaxis=dict(\n",
    "        gridcolor='lightgray'\n",
    "    )\n",
    ")\n",
    "\n",
    "# Calculando Potência Total\n",
    "df['Potência Total'] = df['Potência Consumida'] - df['Potência Geradora']\n",
    "\n",
    "for P in df.columns[1:4]:\n",
    "    l = dict()\n",
    "    if P == 'Potência Total':\n",
    "        l = dict(\n",
    "            width=4,\n",
    "            dash='dash'\n",
    "        )\n",
    "\n",
    "    fig.add_trace(go.Scatter(\n",
    "        x=df['Hora'],\n",
    "        y=df[P],\n",
    "        name=P,\n",
    "        line=l\n",
    "    )\n",
    ")\n",
    "\n",
    "fig.show()\n"
   ]
  },
  {
   "cell_type": "markdown",
   "metadata": {},
   "source": [
    "## Cálculo do Fator de Potência \n",
    "\n",
    "O cálculo do fator de potência para cada hora do dia será dado por:\n",
    "\n",
    "$${FP} = \\cos(\\arctan(\\frac{Q}{P_{total}}))$$\n",
    "\n",
    "Para cada horário, deve-se verificar se há a necessidade de corrigir o fator de potência.\n",
    "   - Se ${FP} > {FP}_{min}$, sendo ${FP}_{min} = 0,94$, não há necessidade de corrigir o fator de potência;\n",
    "   - Porém, se ${FP} < {FP}_{min}$, deve-se corrigir o fator de potência.\n",
    "\n",
    "**OBS:** o fator de potência mínimo exigido é de $0,92$. Porém, para uma margem de erro mais segura, será utilizado $0,94$.\n",
    "\n",
    "---"
   ]
  },
  {
   "cell_type": "code",
   "execution_count": 144,
   "metadata": {},
   "outputs": [
    {
     "data": {
      "application/vnd.plotly.v1+json": {
       "config": {
        "plotlyServerURL": "https://plot.ly"
       },
       "data": [
        {
         "marker": {
          "color": "forestgreen",
          "size": 7
         },
         "mode": "markers",
         "name": "Nível Adequado",
         "type": "scatter",
         "x": [
          0,
          1,
          2,
          3,
          4,
          5,
          6,
          7,
          8,
          9,
          10,
          11,
          12,
          13,
          14,
          15,
          16,
          17,
          18,
          19,
          20,
          21,
          22,
          23
         ],
         "y": [
          0.967865219887785,
          0.9522815679658113,
          0.9477445141390648,
          0.9427051561199669,
          0.9315020756582887,
          null,
          0.9567028485074555,
          null,
          null,
          null,
          null,
          null,
          null,
          null,
          null,
          null,
          null,
          null,
          null,
          null,
          null,
          0.9757035653956615,
          0.978764439689126,
          0.971201708932052
         ]
        },
        {
         "marker": {
          "color": "crimson",
          "size": 7
         },
         "mode": "markers",
         "name": "Fora do Padrão",
         "type": "scatter",
         "x": [
          0,
          1,
          2,
          3,
          4,
          5,
          6,
          7,
          8,
          9,
          10,
          11,
          12,
          13,
          14,
          15,
          16,
          17,
          18,
          19,
          20,
          21,
          22,
          23
         ],
         "y": [
          null,
          null,
          null,
          null,
          null,
          0.9173573264824795,
          null,
          0.8696603391415688,
          0.6588619672760699,
          0.6302808357567096,
          0.3347638689474256,
          0.38650244503719444,
          0.47064772258132553,
          0.5418195277476484,
          0.5109315322688862,
          0.518797207661372,
          0.8257740428767054,
          0.8934387564474969,
          0.7898428674605706,
          0.8076869908353858,
          0.8038418992031009,
          null,
          null,
          null
         ]
        },
        {
         "line": {
          "color": "black",
          "dash": "dash",
          "width": 0.5
         },
         "name": "Fator Mínimo Exigido",
         "type": "scatter",
         "x": [
          0,
          1,
          2,
          3,
          4,
          5,
          6,
          7,
          8,
          9,
          10,
          11,
          12,
          13,
          14,
          15,
          16,
          17,
          18,
          19,
          20,
          21,
          22,
          23
         ],
         "y": [
          0.92,
          0.92,
          0.92,
          0.92,
          0.92,
          0.92,
          0.92,
          0.92,
          0.92,
          0.92,
          0.92,
          0.92,
          0.92,
          0.92,
          0.92,
          0.92,
          0.92,
          0.92,
          0.92,
          0.92,
          0.92,
          0.92,
          0.92,
          0.92
         ]
        }
       ],
       "layout": {
        "font": {
         "color": "black",
         "family": "Arial",
         "size": 15
        },
        "legend": {
         "title": {
          "text": "Classificação"
         }
        },
        "plot_bgcolor": "white",
        "shapes": [
         {
          "fillcolor": "green",
          "layer": "below",
          "line": {
           "width": 0
          },
          "opacity": 0.2,
          "type": "rect",
          "x0": 0,
          "x1": 1,
          "xref": "x domain",
          "y0": 0.94,
          "y1": 1,
          "yref": "y"
         },
         {
          "fillcolor": "yellow",
          "layer": "below",
          "line": {
           "width": 0
          },
          "opacity": 0.2,
          "type": "rect",
          "x0": 0,
          "x1": 1,
          "xref": "x domain",
          "y0": 0.92,
          "y1": 0.94,
          "yref": "y"
         },
         {
          "fillcolor": "red",
          "layer": "below",
          "line": {
           "width": 0
          },
          "opacity": 0.2,
          "type": "rect",
          "x0": 0,
          "x1": 1,
          "xref": "x domain",
          "y0": 0,
          "y1": 0.92,
          "yref": "y"
         }
        ],
        "template": {
         "data": {
          "bar": [
           {
            "error_x": {
             "color": "#2a3f5f"
            },
            "error_y": {
             "color": "#2a3f5f"
            },
            "marker": {
             "line": {
              "color": "#E5ECF6",
              "width": 0.5
             },
             "pattern": {
              "fillmode": "overlay",
              "size": 10,
              "solidity": 0.2
             }
            },
            "type": "bar"
           }
          ],
          "barpolar": [
           {
            "marker": {
             "line": {
              "color": "#E5ECF6",
              "width": 0.5
             },
             "pattern": {
              "fillmode": "overlay",
              "size": 10,
              "solidity": 0.2
             }
            },
            "type": "barpolar"
           }
          ],
          "carpet": [
           {
            "aaxis": {
             "endlinecolor": "#2a3f5f",
             "gridcolor": "white",
             "linecolor": "white",
             "minorgridcolor": "white",
             "startlinecolor": "#2a3f5f"
            },
            "baxis": {
             "endlinecolor": "#2a3f5f",
             "gridcolor": "white",
             "linecolor": "white",
             "minorgridcolor": "white",
             "startlinecolor": "#2a3f5f"
            },
            "type": "carpet"
           }
          ],
          "choropleth": [
           {
            "colorbar": {
             "outlinewidth": 0,
             "ticks": ""
            },
            "type": "choropleth"
           }
          ],
          "contour": [
           {
            "colorbar": {
             "outlinewidth": 0,
             "ticks": ""
            },
            "colorscale": [
             [
              0,
              "#0d0887"
             ],
             [
              0.1111111111111111,
              "#46039f"
             ],
             [
              0.2222222222222222,
              "#7201a8"
             ],
             [
              0.3333333333333333,
              "#9c179e"
             ],
             [
              0.4444444444444444,
              "#bd3786"
             ],
             [
              0.5555555555555556,
              "#d8576b"
             ],
             [
              0.6666666666666666,
              "#ed7953"
             ],
             [
              0.7777777777777778,
              "#fb9f3a"
             ],
             [
              0.8888888888888888,
              "#fdca26"
             ],
             [
              1,
              "#f0f921"
             ]
            ],
            "type": "contour"
           }
          ],
          "contourcarpet": [
           {
            "colorbar": {
             "outlinewidth": 0,
             "ticks": ""
            },
            "type": "contourcarpet"
           }
          ],
          "heatmap": [
           {
            "colorbar": {
             "outlinewidth": 0,
             "ticks": ""
            },
            "colorscale": [
             [
              0,
              "#0d0887"
             ],
             [
              0.1111111111111111,
              "#46039f"
             ],
             [
              0.2222222222222222,
              "#7201a8"
             ],
             [
              0.3333333333333333,
              "#9c179e"
             ],
             [
              0.4444444444444444,
              "#bd3786"
             ],
             [
              0.5555555555555556,
              "#d8576b"
             ],
             [
              0.6666666666666666,
              "#ed7953"
             ],
             [
              0.7777777777777778,
              "#fb9f3a"
             ],
             [
              0.8888888888888888,
              "#fdca26"
             ],
             [
              1,
              "#f0f921"
             ]
            ],
            "type": "heatmap"
           }
          ],
          "heatmapgl": [
           {
            "colorbar": {
             "outlinewidth": 0,
             "ticks": ""
            },
            "colorscale": [
             [
              0,
              "#0d0887"
             ],
             [
              0.1111111111111111,
              "#46039f"
             ],
             [
              0.2222222222222222,
              "#7201a8"
             ],
             [
              0.3333333333333333,
              "#9c179e"
             ],
             [
              0.4444444444444444,
              "#bd3786"
             ],
             [
              0.5555555555555556,
              "#d8576b"
             ],
             [
              0.6666666666666666,
              "#ed7953"
             ],
             [
              0.7777777777777778,
              "#fb9f3a"
             ],
             [
              0.8888888888888888,
              "#fdca26"
             ],
             [
              1,
              "#f0f921"
             ]
            ],
            "type": "heatmapgl"
           }
          ],
          "histogram": [
           {
            "marker": {
             "pattern": {
              "fillmode": "overlay",
              "size": 10,
              "solidity": 0.2
             }
            },
            "type": "histogram"
           }
          ],
          "histogram2d": [
           {
            "colorbar": {
             "outlinewidth": 0,
             "ticks": ""
            },
            "colorscale": [
             [
              0,
              "#0d0887"
             ],
             [
              0.1111111111111111,
              "#46039f"
             ],
             [
              0.2222222222222222,
              "#7201a8"
             ],
             [
              0.3333333333333333,
              "#9c179e"
             ],
             [
              0.4444444444444444,
              "#bd3786"
             ],
             [
              0.5555555555555556,
              "#d8576b"
             ],
             [
              0.6666666666666666,
              "#ed7953"
             ],
             [
              0.7777777777777778,
              "#fb9f3a"
             ],
             [
              0.8888888888888888,
              "#fdca26"
             ],
             [
              1,
              "#f0f921"
             ]
            ],
            "type": "histogram2d"
           }
          ],
          "histogram2dcontour": [
           {
            "colorbar": {
             "outlinewidth": 0,
             "ticks": ""
            },
            "colorscale": [
             [
              0,
              "#0d0887"
             ],
             [
              0.1111111111111111,
              "#46039f"
             ],
             [
              0.2222222222222222,
              "#7201a8"
             ],
             [
              0.3333333333333333,
              "#9c179e"
             ],
             [
              0.4444444444444444,
              "#bd3786"
             ],
             [
              0.5555555555555556,
              "#d8576b"
             ],
             [
              0.6666666666666666,
              "#ed7953"
             ],
             [
              0.7777777777777778,
              "#fb9f3a"
             ],
             [
              0.8888888888888888,
              "#fdca26"
             ],
             [
              1,
              "#f0f921"
             ]
            ],
            "type": "histogram2dcontour"
           }
          ],
          "mesh3d": [
           {
            "colorbar": {
             "outlinewidth": 0,
             "ticks": ""
            },
            "type": "mesh3d"
           }
          ],
          "parcoords": [
           {
            "line": {
             "colorbar": {
              "outlinewidth": 0,
              "ticks": ""
             }
            },
            "type": "parcoords"
           }
          ],
          "pie": [
           {
            "automargin": true,
            "type": "pie"
           }
          ],
          "scatter": [
           {
            "fillpattern": {
             "fillmode": "overlay",
             "size": 10,
             "solidity": 0.2
            },
            "type": "scatter"
           }
          ],
          "scatter3d": [
           {
            "line": {
             "colorbar": {
              "outlinewidth": 0,
              "ticks": ""
             }
            },
            "marker": {
             "colorbar": {
              "outlinewidth": 0,
              "ticks": ""
             }
            },
            "type": "scatter3d"
           }
          ],
          "scattercarpet": [
           {
            "marker": {
             "colorbar": {
              "outlinewidth": 0,
              "ticks": ""
             }
            },
            "type": "scattercarpet"
           }
          ],
          "scattergeo": [
           {
            "marker": {
             "colorbar": {
              "outlinewidth": 0,
              "ticks": ""
             }
            },
            "type": "scattergeo"
           }
          ],
          "scattergl": [
           {
            "marker": {
             "colorbar": {
              "outlinewidth": 0,
              "ticks": ""
             }
            },
            "type": "scattergl"
           }
          ],
          "scattermapbox": [
           {
            "marker": {
             "colorbar": {
              "outlinewidth": 0,
              "ticks": ""
             }
            },
            "type": "scattermapbox"
           }
          ],
          "scatterpolar": [
           {
            "marker": {
             "colorbar": {
              "outlinewidth": 0,
              "ticks": ""
             }
            },
            "type": "scatterpolar"
           }
          ],
          "scatterpolargl": [
           {
            "marker": {
             "colorbar": {
              "outlinewidth": 0,
              "ticks": ""
             }
            },
            "type": "scatterpolargl"
           }
          ],
          "scatterternary": [
           {
            "marker": {
             "colorbar": {
              "outlinewidth": 0,
              "ticks": ""
             }
            },
            "type": "scatterternary"
           }
          ],
          "surface": [
           {
            "colorbar": {
             "outlinewidth": 0,
             "ticks": ""
            },
            "colorscale": [
             [
              0,
              "#0d0887"
             ],
             [
              0.1111111111111111,
              "#46039f"
             ],
             [
              0.2222222222222222,
              "#7201a8"
             ],
             [
              0.3333333333333333,
              "#9c179e"
             ],
             [
              0.4444444444444444,
              "#bd3786"
             ],
             [
              0.5555555555555556,
              "#d8576b"
             ],
             [
              0.6666666666666666,
              "#ed7953"
             ],
             [
              0.7777777777777778,
              "#fb9f3a"
             ],
             [
              0.8888888888888888,
              "#fdca26"
             ],
             [
              1,
              "#f0f921"
             ]
            ],
            "type": "surface"
           }
          ],
          "table": [
           {
            "cells": {
             "fill": {
              "color": "#EBF0F8"
             },
             "line": {
              "color": "white"
             }
            },
            "header": {
             "fill": {
              "color": "#C8D4E3"
             },
             "line": {
              "color": "white"
             }
            },
            "type": "table"
           }
          ]
         },
         "layout": {
          "annotationdefaults": {
           "arrowcolor": "#2a3f5f",
           "arrowhead": 0,
           "arrowwidth": 1
          },
          "autotypenumbers": "strict",
          "coloraxis": {
           "colorbar": {
            "outlinewidth": 0,
            "ticks": ""
           }
          },
          "colorscale": {
           "diverging": [
            [
             0,
             "#8e0152"
            ],
            [
             0.1,
             "#c51b7d"
            ],
            [
             0.2,
             "#de77ae"
            ],
            [
             0.3,
             "#f1b6da"
            ],
            [
             0.4,
             "#fde0ef"
            ],
            [
             0.5,
             "#f7f7f7"
            ],
            [
             0.6,
             "#e6f5d0"
            ],
            [
             0.7,
             "#b8e186"
            ],
            [
             0.8,
             "#7fbc41"
            ],
            [
             0.9,
             "#4d9221"
            ],
            [
             1,
             "#276419"
            ]
           ],
           "sequential": [
            [
             0,
             "#0d0887"
            ],
            [
             0.1111111111111111,
             "#46039f"
            ],
            [
             0.2222222222222222,
             "#7201a8"
            ],
            [
             0.3333333333333333,
             "#9c179e"
            ],
            [
             0.4444444444444444,
             "#bd3786"
            ],
            [
             0.5555555555555556,
             "#d8576b"
            ],
            [
             0.6666666666666666,
             "#ed7953"
            ],
            [
             0.7777777777777778,
             "#fb9f3a"
            ],
            [
             0.8888888888888888,
             "#fdca26"
            ],
            [
             1,
             "#f0f921"
            ]
           ],
           "sequentialminus": [
            [
             0,
             "#0d0887"
            ],
            [
             0.1111111111111111,
             "#46039f"
            ],
            [
             0.2222222222222222,
             "#7201a8"
            ],
            [
             0.3333333333333333,
             "#9c179e"
            ],
            [
             0.4444444444444444,
             "#bd3786"
            ],
            [
             0.5555555555555556,
             "#d8576b"
            ],
            [
             0.6666666666666666,
             "#ed7953"
            ],
            [
             0.7777777777777778,
             "#fb9f3a"
            ],
            [
             0.8888888888888888,
             "#fdca26"
            ],
            [
             1,
             "#f0f921"
            ]
           ]
          },
          "colorway": [
           "#636efa",
           "#EF553B",
           "#00cc96",
           "#ab63fa",
           "#FFA15A",
           "#19d3f3",
           "#FF6692",
           "#B6E880",
           "#FF97FF",
           "#FECB52"
          ],
          "font": {
           "color": "#2a3f5f"
          },
          "geo": {
           "bgcolor": "white",
           "lakecolor": "white",
           "landcolor": "#E5ECF6",
           "showlakes": true,
           "showland": true,
           "subunitcolor": "white"
          },
          "hoverlabel": {
           "align": "left"
          },
          "hovermode": "closest",
          "mapbox": {
           "style": "light"
          },
          "paper_bgcolor": "white",
          "plot_bgcolor": "#E5ECF6",
          "polar": {
           "angularaxis": {
            "gridcolor": "white",
            "linecolor": "white",
            "ticks": ""
           },
           "bgcolor": "#E5ECF6",
           "radialaxis": {
            "gridcolor": "white",
            "linecolor": "white",
            "ticks": ""
           }
          },
          "scene": {
           "xaxis": {
            "backgroundcolor": "#E5ECF6",
            "gridcolor": "white",
            "gridwidth": 2,
            "linecolor": "white",
            "showbackground": true,
            "ticks": "",
            "zerolinecolor": "white"
           },
           "yaxis": {
            "backgroundcolor": "#E5ECF6",
            "gridcolor": "white",
            "gridwidth": 2,
            "linecolor": "white",
            "showbackground": true,
            "ticks": "",
            "zerolinecolor": "white"
           },
           "zaxis": {
            "backgroundcolor": "#E5ECF6",
            "gridcolor": "white",
            "gridwidth": 2,
            "linecolor": "white",
            "showbackground": true,
            "ticks": "",
            "zerolinecolor": "white"
           }
          },
          "shapedefaults": {
           "line": {
            "color": "#2a3f5f"
           }
          },
          "ternary": {
           "aaxis": {
            "gridcolor": "white",
            "linecolor": "white",
            "ticks": ""
           },
           "baxis": {
            "gridcolor": "white",
            "linecolor": "white",
            "ticks": ""
           },
           "bgcolor": "#E5ECF6",
           "caxis": {
            "gridcolor": "white",
            "linecolor": "white",
            "ticks": ""
           }
          },
          "title": {
           "x": 0.05
          },
          "xaxis": {
           "automargin": true,
           "gridcolor": "white",
           "linecolor": "white",
           "ticks": "",
           "title": {
            "standoff": 15
           },
           "zerolinecolor": "white",
           "zerolinewidth": 2
          },
          "yaxis": {
           "automargin": true,
           "gridcolor": "white",
           "linecolor": "white",
           "ticks": "",
           "title": {
            "standoff": 15
           },
           "zerolinecolor": "white",
           "zerolinewidth": 2
          }
         }
        },
        "title": {
         "text": "Evolução do Fator de Potência ao Longo do Dia"
        },
        "xaxis": {
         "dtick": 1,
         "gridcolor": "lightgray",
         "range": [
          0,
          23
         ],
         "tickmode": "linear",
         "title": {
          "text": "Hora do Dia"
         }
        },
        "yaxis": {
         "gridcolor": "lightgray",
         "range": [
          0,
          1
         ],
         "title": {
          "text": "Fator de Potência"
         }
        }
       }
      }
     },
     "metadata": {},
     "output_type": "display_data"
    }
   ],
   "source": [
    "# Plotando as Curvas de Cargas Ativas\n",
    "\n",
    "fig = go.Figure()\n",
    "\n",
    "# Parâmetros do Gráfico\n",
    "fig.update_layout(\n",
    "    title='Evolução do Fator de Potência ao Longo do Dia',\n",
    "    xaxis_title='Hora do Dia',\n",
    "    yaxis_title='Fator de Potência',\n",
    "    legend_title='Classificação',\n",
    "    plot_bgcolor='white',\n",
    "    font=dict(\n",
    "        family='Arial',\n",
    "        size=15,\n",
    "        color='black'\n",
    "    ),\n",
    "    xaxis=dict(\n",
    "        gridcolor='lightgray',\n",
    "        tickmode = 'linear',\n",
    "        dtick = 1,\n",
    "        range=[0,23]\n",
    "    ),\n",
    "    yaxis=dict(\n",
    "        gridcolor='lightgray',\n",
    "        range=[0,1]\n",
    "    )\n",
    ")\n",
    "\n",
    "# Calculando a evolução do Fator de Potência \n",
    "df['FP'] = (df['Reativo Consumido']/df['Potência Total']).apply(np.arctan).apply(np.cos)\n",
    "\n",
    "fig.add_hrect(\n",
    "    y0=0.94, \n",
    "    y1=1.00, \n",
    "    line_width=0, \n",
    "    fillcolor='green', \n",
    "    opacity=0.2,\n",
    "    layer='below')\n",
    "\n",
    "fig.add_hrect(\n",
    "    y0=0.92, \n",
    "    y1=0.94, \n",
    "    line_width=0, \n",
    "    fillcolor='yellow', \n",
    "    opacity=0.2,\n",
    "    layer='below')\n",
    "\n",
    "fig.add_hrect(\n",
    "    y0=0.00, \n",
    "    y1=0.92, \n",
    "    line_width=0, \n",
    "    fillcolor='red', \n",
    "    opacity=0.2,\n",
    "    layer='below')\n",
    "\n",
    "fig.add_trace(go.Scatter(\n",
    "    x=df['Hora'],\n",
    "    y=df['FP'].apply(lambda x: x if x > 0.92 else None), # Somente os pontos que estão dentro da norma\n",
    "    name='Nível Adequado',\n",
    "    mode='markers',\n",
    "    marker=dict(\n",
    "            size=7,\n",
    "            color='forestgreen'\n",
    "        )\n",
    "    )\n",
    ")\n",
    "\n",
    "fig.add_trace(go.Scatter(\n",
    "    x=df['Hora'],\n",
    "    y=df['FP'].apply(lambda x: x if x <= 0.92 else None), # Somente os pontos que estão fora do padrão\n",
    "    name='Fora do Padrão',\n",
    "    mode='markers',\n",
    "    marker=dict(\n",
    "            size=7,\n",
    "            color='crimson'\n",
    "        )\n",
    "    )\n",
    ")\n",
    "\n",
    "fig.add_trace(go.Scatter(\n",
    "    x=df['Hora'],\n",
    "    y=np.full(24, 0.92),\n",
    "    name='Fator Mínimo Exigido',\n",
    "    line=dict(\n",
    "            width=0.5,\n",
    "            dash='dash',\n",
    "            color='black'\n",
    "        )\n",
    "    )\n",
    ")\n",
    "\n",
    "fig.show()\n"
   ]
  },
  {
   "cell_type": "markdown",
   "metadata": {},
   "source": [
    "## Controle do Fator de Potência \n",
    "\n",
    "Para o controle do Fator de Potência da indústria, será utilizado um banco de capacitores para corrigir o reativo produzido pela indústria e aumentar o fator de potência de modo que ${FP} \\geq {FP}_{min} = 0,94$.\n",
    "\n",
    "A quantidade de Potência Reativa Capacitiva necessária para **corrigir** o fator de potência é calculada por:\n",
    "\n",
    "\n",
    "$$Q_{corr} = P\\cdot [\\tan(\\arccos({FP}))-\\tan(\\arccos({FP}_{min}))]$$\n",
    "\n",
    "Para atingir o $Q_{corr}$ esperado, é utilizada uma associação de células capacitivas disponíveis no banco do controlador.\n",
    "\n",
    "Observando o gráfico do reativo capacitivo necessário e sabendo queo controlador disponível possui uma capacidade de $6$ células, foram escolhidos os seguintes capacitores:\n",
    "\n",
    "- $Q_1 = 3,0$ kVAr\n",
    "- $Q_2 = 7,5$ kVAr\n",
    "- $Q_3 = 10,0$ kVAr\n",
    "- $Q_4 = 17,5$ kVAr\n",
    "- $Q_5 = 25,0$ kVAr\n",
    "- $Q_6 = 35,0$ kVAr\n",
    "\n",
    "A função `combcap` calcula o valor da associação de capacitores mais próxima de necessária para um dado momento do dia. \n",
    "\n",
    "---"
   ]
  },
  {
   "cell_type": "code",
   "execution_count": 145,
   "metadata": {},
   "outputs": [
    {
     "data": {
      "application/vnd.plotly.v1+json": {
       "config": {
        "plotlyServerURL": "https://plot.ly"
       },
       "data": [
        {
         "marker": {
          "opacity": 0.5,
          "size": 10
         },
         "mode": "markers",
         "name": "Reativo Capacitivo Calculado",
         "type": "scatter",
         "x": [
          0,
          1,
          2,
          3,
          4,
          5,
          6,
          7,
          8,
          9,
          10,
          11,
          12,
          13,
          14,
          15,
          16,
          17,
          18,
          19,
          20,
          21,
          22,
          23
         ],
         "y": [
          "-",
          "-",
          "-",
          "-",
          2.58055269578056,
          6.192478637649131,
          "-",
          15.343152993446175,
          46.75201939963413,
          62.82497455917946,
          81.03445179340174,
          79.4141522811201,
          68.28547919842535,
          65.85522597247582,
          70.18460789382874,
          68.26638498588308,
          37.89016786144732,
          20.010746904374983,
          7.882143757405072,
          7.3409693152204305,
          7.540969315220428,
          "-",
          "-",
          "-"
         ]
        },
        {
         "marker": {
          "size": 5
         },
         "mode": "markers",
         "name": "Banco de Capacitores Escolhido",
         "type": "scatter",
         "x": [
          0,
          1,
          2,
          3,
          4,
          5,
          6,
          7,
          8,
          9,
          10,
          11,
          12,
          13,
          14,
          15,
          16,
          17,
          18,
          19,
          20,
          21,
          22,
          23
         ],
         "y": [
          "-",
          "-",
          "-",
          "-",
          3,
          7.5,
          "-",
          17.5,
          48,
          63,
          80.5,
          80.5,
          67.5,
          65.5,
          70,
          67.5,
          38,
          20.5,
          7.5,
          7.5,
          7.5,
          "-",
          "-",
          "-"
         ]
        }
       ],
       "layout": {
        "font": {
         "color": "black",
         "family": "Arial",
         "size": 15
        },
        "legend": {
         "title": {
          "text": "Banco de Capacitores"
         }
        },
        "plot_bgcolor": "white",
        "template": {
         "data": {
          "bar": [
           {
            "error_x": {
             "color": "#2a3f5f"
            },
            "error_y": {
             "color": "#2a3f5f"
            },
            "marker": {
             "line": {
              "color": "#E5ECF6",
              "width": 0.5
             },
             "pattern": {
              "fillmode": "overlay",
              "size": 10,
              "solidity": 0.2
             }
            },
            "type": "bar"
           }
          ],
          "barpolar": [
           {
            "marker": {
             "line": {
              "color": "#E5ECF6",
              "width": 0.5
             },
             "pattern": {
              "fillmode": "overlay",
              "size": 10,
              "solidity": 0.2
             }
            },
            "type": "barpolar"
           }
          ],
          "carpet": [
           {
            "aaxis": {
             "endlinecolor": "#2a3f5f",
             "gridcolor": "white",
             "linecolor": "white",
             "minorgridcolor": "white",
             "startlinecolor": "#2a3f5f"
            },
            "baxis": {
             "endlinecolor": "#2a3f5f",
             "gridcolor": "white",
             "linecolor": "white",
             "minorgridcolor": "white",
             "startlinecolor": "#2a3f5f"
            },
            "type": "carpet"
           }
          ],
          "choropleth": [
           {
            "colorbar": {
             "outlinewidth": 0,
             "ticks": ""
            },
            "type": "choropleth"
           }
          ],
          "contour": [
           {
            "colorbar": {
             "outlinewidth": 0,
             "ticks": ""
            },
            "colorscale": [
             [
              0,
              "#0d0887"
             ],
             [
              0.1111111111111111,
              "#46039f"
             ],
             [
              0.2222222222222222,
              "#7201a8"
             ],
             [
              0.3333333333333333,
              "#9c179e"
             ],
             [
              0.4444444444444444,
              "#bd3786"
             ],
             [
              0.5555555555555556,
              "#d8576b"
             ],
             [
              0.6666666666666666,
              "#ed7953"
             ],
             [
              0.7777777777777778,
              "#fb9f3a"
             ],
             [
              0.8888888888888888,
              "#fdca26"
             ],
             [
              1,
              "#f0f921"
             ]
            ],
            "type": "contour"
           }
          ],
          "contourcarpet": [
           {
            "colorbar": {
             "outlinewidth": 0,
             "ticks": ""
            },
            "type": "contourcarpet"
           }
          ],
          "heatmap": [
           {
            "colorbar": {
             "outlinewidth": 0,
             "ticks": ""
            },
            "colorscale": [
             [
              0,
              "#0d0887"
             ],
             [
              0.1111111111111111,
              "#46039f"
             ],
             [
              0.2222222222222222,
              "#7201a8"
             ],
             [
              0.3333333333333333,
              "#9c179e"
             ],
             [
              0.4444444444444444,
              "#bd3786"
             ],
             [
              0.5555555555555556,
              "#d8576b"
             ],
             [
              0.6666666666666666,
              "#ed7953"
             ],
             [
              0.7777777777777778,
              "#fb9f3a"
             ],
             [
              0.8888888888888888,
              "#fdca26"
             ],
             [
              1,
              "#f0f921"
             ]
            ],
            "type": "heatmap"
           }
          ],
          "heatmapgl": [
           {
            "colorbar": {
             "outlinewidth": 0,
             "ticks": ""
            },
            "colorscale": [
             [
              0,
              "#0d0887"
             ],
             [
              0.1111111111111111,
              "#46039f"
             ],
             [
              0.2222222222222222,
              "#7201a8"
             ],
             [
              0.3333333333333333,
              "#9c179e"
             ],
             [
              0.4444444444444444,
              "#bd3786"
             ],
             [
              0.5555555555555556,
              "#d8576b"
             ],
             [
              0.6666666666666666,
              "#ed7953"
             ],
             [
              0.7777777777777778,
              "#fb9f3a"
             ],
             [
              0.8888888888888888,
              "#fdca26"
             ],
             [
              1,
              "#f0f921"
             ]
            ],
            "type": "heatmapgl"
           }
          ],
          "histogram": [
           {
            "marker": {
             "pattern": {
              "fillmode": "overlay",
              "size": 10,
              "solidity": 0.2
             }
            },
            "type": "histogram"
           }
          ],
          "histogram2d": [
           {
            "colorbar": {
             "outlinewidth": 0,
             "ticks": ""
            },
            "colorscale": [
             [
              0,
              "#0d0887"
             ],
             [
              0.1111111111111111,
              "#46039f"
             ],
             [
              0.2222222222222222,
              "#7201a8"
             ],
             [
              0.3333333333333333,
              "#9c179e"
             ],
             [
              0.4444444444444444,
              "#bd3786"
             ],
             [
              0.5555555555555556,
              "#d8576b"
             ],
             [
              0.6666666666666666,
              "#ed7953"
             ],
             [
              0.7777777777777778,
              "#fb9f3a"
             ],
             [
              0.8888888888888888,
              "#fdca26"
             ],
             [
              1,
              "#f0f921"
             ]
            ],
            "type": "histogram2d"
           }
          ],
          "histogram2dcontour": [
           {
            "colorbar": {
             "outlinewidth": 0,
             "ticks": ""
            },
            "colorscale": [
             [
              0,
              "#0d0887"
             ],
             [
              0.1111111111111111,
              "#46039f"
             ],
             [
              0.2222222222222222,
              "#7201a8"
             ],
             [
              0.3333333333333333,
              "#9c179e"
             ],
             [
              0.4444444444444444,
              "#bd3786"
             ],
             [
              0.5555555555555556,
              "#d8576b"
             ],
             [
              0.6666666666666666,
              "#ed7953"
             ],
             [
              0.7777777777777778,
              "#fb9f3a"
             ],
             [
              0.8888888888888888,
              "#fdca26"
             ],
             [
              1,
              "#f0f921"
             ]
            ],
            "type": "histogram2dcontour"
           }
          ],
          "mesh3d": [
           {
            "colorbar": {
             "outlinewidth": 0,
             "ticks": ""
            },
            "type": "mesh3d"
           }
          ],
          "parcoords": [
           {
            "line": {
             "colorbar": {
              "outlinewidth": 0,
              "ticks": ""
             }
            },
            "type": "parcoords"
           }
          ],
          "pie": [
           {
            "automargin": true,
            "type": "pie"
           }
          ],
          "scatter": [
           {
            "fillpattern": {
             "fillmode": "overlay",
             "size": 10,
             "solidity": 0.2
            },
            "type": "scatter"
           }
          ],
          "scatter3d": [
           {
            "line": {
             "colorbar": {
              "outlinewidth": 0,
              "ticks": ""
             }
            },
            "marker": {
             "colorbar": {
              "outlinewidth": 0,
              "ticks": ""
             }
            },
            "type": "scatter3d"
           }
          ],
          "scattercarpet": [
           {
            "marker": {
             "colorbar": {
              "outlinewidth": 0,
              "ticks": ""
             }
            },
            "type": "scattercarpet"
           }
          ],
          "scattergeo": [
           {
            "marker": {
             "colorbar": {
              "outlinewidth": 0,
              "ticks": ""
             }
            },
            "type": "scattergeo"
           }
          ],
          "scattergl": [
           {
            "marker": {
             "colorbar": {
              "outlinewidth": 0,
              "ticks": ""
             }
            },
            "type": "scattergl"
           }
          ],
          "scattermapbox": [
           {
            "marker": {
             "colorbar": {
              "outlinewidth": 0,
              "ticks": ""
             }
            },
            "type": "scattermapbox"
           }
          ],
          "scatterpolar": [
           {
            "marker": {
             "colorbar": {
              "outlinewidth": 0,
              "ticks": ""
             }
            },
            "type": "scatterpolar"
           }
          ],
          "scatterpolargl": [
           {
            "marker": {
             "colorbar": {
              "outlinewidth": 0,
              "ticks": ""
             }
            },
            "type": "scatterpolargl"
           }
          ],
          "scatterternary": [
           {
            "marker": {
             "colorbar": {
              "outlinewidth": 0,
              "ticks": ""
             }
            },
            "type": "scatterternary"
           }
          ],
          "surface": [
           {
            "colorbar": {
             "outlinewidth": 0,
             "ticks": ""
            },
            "colorscale": [
             [
              0,
              "#0d0887"
             ],
             [
              0.1111111111111111,
              "#46039f"
             ],
             [
              0.2222222222222222,
              "#7201a8"
             ],
             [
              0.3333333333333333,
              "#9c179e"
             ],
             [
              0.4444444444444444,
              "#bd3786"
             ],
             [
              0.5555555555555556,
              "#d8576b"
             ],
             [
              0.6666666666666666,
              "#ed7953"
             ],
             [
              0.7777777777777778,
              "#fb9f3a"
             ],
             [
              0.8888888888888888,
              "#fdca26"
             ],
             [
              1,
              "#f0f921"
             ]
            ],
            "type": "surface"
           }
          ],
          "table": [
           {
            "cells": {
             "fill": {
              "color": "#EBF0F8"
             },
             "line": {
              "color": "white"
             }
            },
            "header": {
             "fill": {
              "color": "#C8D4E3"
             },
             "line": {
              "color": "white"
             }
            },
            "type": "table"
           }
          ]
         },
         "layout": {
          "annotationdefaults": {
           "arrowcolor": "#2a3f5f",
           "arrowhead": 0,
           "arrowwidth": 1
          },
          "autotypenumbers": "strict",
          "coloraxis": {
           "colorbar": {
            "outlinewidth": 0,
            "ticks": ""
           }
          },
          "colorscale": {
           "diverging": [
            [
             0,
             "#8e0152"
            ],
            [
             0.1,
             "#c51b7d"
            ],
            [
             0.2,
             "#de77ae"
            ],
            [
             0.3,
             "#f1b6da"
            ],
            [
             0.4,
             "#fde0ef"
            ],
            [
             0.5,
             "#f7f7f7"
            ],
            [
             0.6,
             "#e6f5d0"
            ],
            [
             0.7,
             "#b8e186"
            ],
            [
             0.8,
             "#7fbc41"
            ],
            [
             0.9,
             "#4d9221"
            ],
            [
             1,
             "#276419"
            ]
           ],
           "sequential": [
            [
             0,
             "#0d0887"
            ],
            [
             0.1111111111111111,
             "#46039f"
            ],
            [
             0.2222222222222222,
             "#7201a8"
            ],
            [
             0.3333333333333333,
             "#9c179e"
            ],
            [
             0.4444444444444444,
             "#bd3786"
            ],
            [
             0.5555555555555556,
             "#d8576b"
            ],
            [
             0.6666666666666666,
             "#ed7953"
            ],
            [
             0.7777777777777778,
             "#fb9f3a"
            ],
            [
             0.8888888888888888,
             "#fdca26"
            ],
            [
             1,
             "#f0f921"
            ]
           ],
           "sequentialminus": [
            [
             0,
             "#0d0887"
            ],
            [
             0.1111111111111111,
             "#46039f"
            ],
            [
             0.2222222222222222,
             "#7201a8"
            ],
            [
             0.3333333333333333,
             "#9c179e"
            ],
            [
             0.4444444444444444,
             "#bd3786"
            ],
            [
             0.5555555555555556,
             "#d8576b"
            ],
            [
             0.6666666666666666,
             "#ed7953"
            ],
            [
             0.7777777777777778,
             "#fb9f3a"
            ],
            [
             0.8888888888888888,
             "#fdca26"
            ],
            [
             1,
             "#f0f921"
            ]
           ]
          },
          "colorway": [
           "#636efa",
           "#EF553B",
           "#00cc96",
           "#ab63fa",
           "#FFA15A",
           "#19d3f3",
           "#FF6692",
           "#B6E880",
           "#FF97FF",
           "#FECB52"
          ],
          "font": {
           "color": "#2a3f5f"
          },
          "geo": {
           "bgcolor": "white",
           "lakecolor": "white",
           "landcolor": "#E5ECF6",
           "showlakes": true,
           "showland": true,
           "subunitcolor": "white"
          },
          "hoverlabel": {
           "align": "left"
          },
          "hovermode": "closest",
          "mapbox": {
           "style": "light"
          },
          "paper_bgcolor": "white",
          "plot_bgcolor": "#E5ECF6",
          "polar": {
           "angularaxis": {
            "gridcolor": "white",
            "linecolor": "white",
            "ticks": ""
           },
           "bgcolor": "#E5ECF6",
           "radialaxis": {
            "gridcolor": "white",
            "linecolor": "white",
            "ticks": ""
           }
          },
          "scene": {
           "xaxis": {
            "backgroundcolor": "#E5ECF6",
            "gridcolor": "white",
            "gridwidth": 2,
            "linecolor": "white",
            "showbackground": true,
            "ticks": "",
            "zerolinecolor": "white"
           },
           "yaxis": {
            "backgroundcolor": "#E5ECF6",
            "gridcolor": "white",
            "gridwidth": 2,
            "linecolor": "white",
            "showbackground": true,
            "ticks": "",
            "zerolinecolor": "white"
           },
           "zaxis": {
            "backgroundcolor": "#E5ECF6",
            "gridcolor": "white",
            "gridwidth": 2,
            "linecolor": "white",
            "showbackground": true,
            "ticks": "",
            "zerolinecolor": "white"
           }
          },
          "shapedefaults": {
           "line": {
            "color": "#2a3f5f"
           }
          },
          "ternary": {
           "aaxis": {
            "gridcolor": "white",
            "linecolor": "white",
            "ticks": ""
           },
           "baxis": {
            "gridcolor": "white",
            "linecolor": "white",
            "ticks": ""
           },
           "bgcolor": "#E5ECF6",
           "caxis": {
            "gridcolor": "white",
            "linecolor": "white",
            "ticks": ""
           }
          },
          "title": {
           "x": 0.05
          },
          "xaxis": {
           "automargin": true,
           "gridcolor": "white",
           "linecolor": "white",
           "ticks": "",
           "title": {
            "standoff": 15
           },
           "zerolinecolor": "white",
           "zerolinewidth": 2
          },
          "yaxis": {
           "automargin": true,
           "gridcolor": "white",
           "linecolor": "white",
           "ticks": "",
           "title": {
            "standoff": 15
           },
           "zerolinecolor": "white",
           "zerolinewidth": 2
          }
         }
        },
        "title": {
         "text": "Correção do Fator de Potência via Banco de Capacitores"
        },
        "xaxis": {
         "dtick": 1,
         "gridcolor": "lightgray",
         "range": [
          0,
          23
         ],
         "tickmode": "linear",
         "title": {
          "text": "Hora do Dia"
         }
        },
        "yaxis": {
         "gridcolor": "lightgray",
         "title": {
          "text": "Potência Reativa Capacitiva (kVAr)"
         }
        }
       }
      }
     },
     "metadata": {},
     "output_type": "display_data"
    }
   ],
   "source": [
    "# Plotando as Curvas de Cargas Ativas\n",
    "\n",
    "fig = go.Figure()\n",
    "\n",
    "# Parâmetros do Gráfico\n",
    "fig.update_layout(\n",
    "    title='Correção do Fator de Potência via Banco de Capacitores',\n",
    "    xaxis_title='Hora do Dia',\n",
    "    yaxis_title='Potência Reativa Capacitiva (kVAr)',\n",
    "    legend_title='Banco de Capacitores',\n",
    "    plot_bgcolor='white',\n",
    "    font=dict(\n",
    "        family='Arial',\n",
    "        size=15,\n",
    "        color='black'\n",
    "    ),\n",
    "    xaxis=dict(\n",
    "        gridcolor='lightgray',\n",
    "        tickmode = 'linear',\n",
    "        dtick = 1,\n",
    "        range=[0,23]\n",
    "    ),\n",
    "    yaxis=dict(\n",
    "        gridcolor='lightgray'\n",
    "    )\n",
    ")\n",
    "\n",
    "# Calculando a quantidade necessária de potência reativa capacitiva\n",
    "df['Reativo Capacitivo Calculado'] = df['Potência Total']*(df['FP'].apply(np.arccos).apply(np.tan)-np.tan(np.arccos(0.94)))\n",
    "\n",
    "# Desconsiderando valores negativos (ou seja, quando não é necessária a correção)\n",
    "df['Reativo Capacitivo Calculado'] = df['Reativo Capacitivo Calculado'].apply(lambda x: '-' if x <= 0 else x)\n",
    "\n",
    "fig.add_trace(go.Scatter(\n",
    "    x=df['Hora'],\n",
    "    y=df['Reativo Capacitivo Calculado'],\n",
    "    name='Reativo Capacitivo Calculado',\n",
    "    mode='markers',\n",
    "    marker=dict(\n",
    "        size=10,\n",
    "        opacity=0.5\n",
    "        )\n",
    "    )\n",
    ")\n",
    "\n",
    "# Potência reativa nominal dos capacitores escolhidos no catálogo em kVAr\n",
    "Qc = [3, 7.5, 10, 17.5, 25, 35]\n",
    "\n",
    "# Recebe a lista de capacitores e o valor desejado a se atingir com a combinação em paralelo deles\n",
    "# Retorna o valor combinado mais próximo possível do desejado\n",
    "def combcap(Qc, kVAr):\n",
    "    n_celulas = len(Qc)\n",
    "    possiveis_comb = [[Qc[k] for k in range(n_celulas) if i & 1 << k] for i in range(2**n_celulas)]\n",
    "    possiveis_kVAr = np.array(list(map(sum, possiveis_comb))) \n",
    "    return possiveis_kVAr[np.absolute(possiveis_kVAr-kVAr).argmin()]\n",
    "\n",
    "df['Banco de Capacitores Escolhido'] = df['Reativo Capacitivo Calculado'].apply(lambda x: '-' if x == '-' else combcap(Qc, x))\n",
    "\n",
    "fig.add_trace(go.Scatter(\n",
    "    x=df['Hora'],\n",
    "    y=df['Banco de Capacitores Escolhido'],\n",
    "    name='Banco de Capacitores Escolhido',\n",
    "    mode='markers',\n",
    "    marker=dict(\n",
    "        size=5\n",
    "        )\n",
    "    )\n",
    ")\n",
    "\n",
    "fig.show()\n"
   ]
  },
  {
   "cell_type": "markdown",
   "metadata": {},
   "source": [
    "## Desempenho do Controlador\n",
    "\n",
    "O fator de potência corrigido será dado por:\n",
    "\n",
    "$${FP}_{corr} = \\cos(\\arctan(\\frac{Q-Q_{corr}}{P{total}}))$$\n",
    "\n",
    "E espera-se que ele fique acima do fator mínimo ${FP}_{min}$ exigido de $0,92$.\n",
    "\n",
    "---"
   ]
  },
  {
   "cell_type": "code",
   "execution_count": 146,
   "metadata": {},
   "outputs": [
    {
     "data": {
      "application/vnd.plotly.v1+json": {
       "config": {
        "plotlyServerURL": "https://plot.ly"
       },
       "data": [
        {
         "marker": {
          "color": "forestgreen",
          "size": 7
         },
         "mode": "markers",
         "name": "Nível Adequado",
         "type": "scatter",
         "x": [
          0,
          1,
          2,
          3,
          4,
          5,
          6,
          7,
          8,
          9,
          10,
          11,
          12,
          13,
          14,
          15,
          16,
          17,
          18,
          19,
          20,
          21,
          22,
          23
         ],
         "y": [
          0.967865219887785,
          0.9522815679658113,
          0.9477445141390648,
          0.9427051561199669,
          0.9413436177665729,
          0.9444559000999571,
          0.9567028485074555,
          0.9484426235725808,
          0.946147470081521,
          0.9407280962977824,
          0.9350557449704929,
          0.9481262439500138,
          0.9346777262993835,
          0.9380566993874935,
          0.9389504668203477,
          0.9355962312821647,
          0.9402794376048631,
          0.9410272985953042,
          0.9338497881176194,
          0.9423798329556456,
          0.9393813346027009,
          0.9757035653956615,
          0.978764439689126,
          0.971201708932052
         ]
        },
        {
         "marker": {
          "color": "crimson",
          "size": 7
         },
         "mode": "markers",
         "name": "Fora do Padrão",
         "type": "scatter",
         "x": [
          0,
          1,
          2,
          3,
          4,
          5,
          6,
          7,
          8,
          9,
          10,
          11,
          12,
          13,
          14,
          15,
          16,
          17,
          18,
          19,
          20,
          21,
          22,
          23
         ],
         "y": [
          null,
          null,
          null,
          null,
          null,
          null,
          null,
          null,
          null,
          null,
          null,
          null,
          null,
          null,
          null,
          null,
          null,
          null,
          null,
          null,
          null,
          null,
          null,
          null
         ]
        },
        {
         "line": {
          "color": "black",
          "dash": "dash",
          "width": 0.5
         },
         "name": "Fator Mínimo Exigido",
         "type": "scatter",
         "x": [
          0,
          1,
          2,
          3,
          4,
          5,
          6,
          7,
          8,
          9,
          10,
          11,
          12,
          13,
          14,
          15,
          16,
          17,
          18,
          19,
          20,
          21,
          22,
          23
         ],
         "y": [
          0.92,
          0.92,
          0.92,
          0.92,
          0.92,
          0.92,
          0.92,
          0.92,
          0.92,
          0.92,
          0.92,
          0.92,
          0.92,
          0.92,
          0.92,
          0.92,
          0.92,
          0.92,
          0.92,
          0.92,
          0.92,
          0.92,
          0.92,
          0.92
         ]
        }
       ],
       "layout": {
        "font": {
         "color": "black",
         "family": "Arial",
         "size": 15
        },
        "legend": {
         "title": {
          "text": "Classificação"
         }
        },
        "plot_bgcolor": "white",
        "shapes": [
         {
          "fillcolor": "green",
          "layer": "below",
          "line": {
           "width": 0
          },
          "opacity": 0.2,
          "type": "rect",
          "x0": 0,
          "x1": 1,
          "xref": "x domain",
          "y0": 0.94,
          "y1": 1,
          "yref": "y"
         },
         {
          "fillcolor": "yellow",
          "layer": "below",
          "line": {
           "width": 0
          },
          "opacity": 0.2,
          "type": "rect",
          "x0": 0,
          "x1": 1,
          "xref": "x domain",
          "y0": 0.92,
          "y1": 0.94,
          "yref": "y"
         },
         {
          "fillcolor": "red",
          "layer": "below",
          "line": {
           "width": 0
          },
          "opacity": 0.2,
          "type": "rect",
          "x0": 0,
          "x1": 1,
          "xref": "x domain",
          "y0": 0,
          "y1": 0.92,
          "yref": "y"
         }
        ],
        "template": {
         "data": {
          "bar": [
           {
            "error_x": {
             "color": "#2a3f5f"
            },
            "error_y": {
             "color": "#2a3f5f"
            },
            "marker": {
             "line": {
              "color": "#E5ECF6",
              "width": 0.5
             },
             "pattern": {
              "fillmode": "overlay",
              "size": 10,
              "solidity": 0.2
             }
            },
            "type": "bar"
           }
          ],
          "barpolar": [
           {
            "marker": {
             "line": {
              "color": "#E5ECF6",
              "width": 0.5
             },
             "pattern": {
              "fillmode": "overlay",
              "size": 10,
              "solidity": 0.2
             }
            },
            "type": "barpolar"
           }
          ],
          "carpet": [
           {
            "aaxis": {
             "endlinecolor": "#2a3f5f",
             "gridcolor": "white",
             "linecolor": "white",
             "minorgridcolor": "white",
             "startlinecolor": "#2a3f5f"
            },
            "baxis": {
             "endlinecolor": "#2a3f5f",
             "gridcolor": "white",
             "linecolor": "white",
             "minorgridcolor": "white",
             "startlinecolor": "#2a3f5f"
            },
            "type": "carpet"
           }
          ],
          "choropleth": [
           {
            "colorbar": {
             "outlinewidth": 0,
             "ticks": ""
            },
            "type": "choropleth"
           }
          ],
          "contour": [
           {
            "colorbar": {
             "outlinewidth": 0,
             "ticks": ""
            },
            "colorscale": [
             [
              0,
              "#0d0887"
             ],
             [
              0.1111111111111111,
              "#46039f"
             ],
             [
              0.2222222222222222,
              "#7201a8"
             ],
             [
              0.3333333333333333,
              "#9c179e"
             ],
             [
              0.4444444444444444,
              "#bd3786"
             ],
             [
              0.5555555555555556,
              "#d8576b"
             ],
             [
              0.6666666666666666,
              "#ed7953"
             ],
             [
              0.7777777777777778,
              "#fb9f3a"
             ],
             [
              0.8888888888888888,
              "#fdca26"
             ],
             [
              1,
              "#f0f921"
             ]
            ],
            "type": "contour"
           }
          ],
          "contourcarpet": [
           {
            "colorbar": {
             "outlinewidth": 0,
             "ticks": ""
            },
            "type": "contourcarpet"
           }
          ],
          "heatmap": [
           {
            "colorbar": {
             "outlinewidth": 0,
             "ticks": ""
            },
            "colorscale": [
             [
              0,
              "#0d0887"
             ],
             [
              0.1111111111111111,
              "#46039f"
             ],
             [
              0.2222222222222222,
              "#7201a8"
             ],
             [
              0.3333333333333333,
              "#9c179e"
             ],
             [
              0.4444444444444444,
              "#bd3786"
             ],
             [
              0.5555555555555556,
              "#d8576b"
             ],
             [
              0.6666666666666666,
              "#ed7953"
             ],
             [
              0.7777777777777778,
              "#fb9f3a"
             ],
             [
              0.8888888888888888,
              "#fdca26"
             ],
             [
              1,
              "#f0f921"
             ]
            ],
            "type": "heatmap"
           }
          ],
          "heatmapgl": [
           {
            "colorbar": {
             "outlinewidth": 0,
             "ticks": ""
            },
            "colorscale": [
             [
              0,
              "#0d0887"
             ],
             [
              0.1111111111111111,
              "#46039f"
             ],
             [
              0.2222222222222222,
              "#7201a8"
             ],
             [
              0.3333333333333333,
              "#9c179e"
             ],
             [
              0.4444444444444444,
              "#bd3786"
             ],
             [
              0.5555555555555556,
              "#d8576b"
             ],
             [
              0.6666666666666666,
              "#ed7953"
             ],
             [
              0.7777777777777778,
              "#fb9f3a"
             ],
             [
              0.8888888888888888,
              "#fdca26"
             ],
             [
              1,
              "#f0f921"
             ]
            ],
            "type": "heatmapgl"
           }
          ],
          "histogram": [
           {
            "marker": {
             "pattern": {
              "fillmode": "overlay",
              "size": 10,
              "solidity": 0.2
             }
            },
            "type": "histogram"
           }
          ],
          "histogram2d": [
           {
            "colorbar": {
             "outlinewidth": 0,
             "ticks": ""
            },
            "colorscale": [
             [
              0,
              "#0d0887"
             ],
             [
              0.1111111111111111,
              "#46039f"
             ],
             [
              0.2222222222222222,
              "#7201a8"
             ],
             [
              0.3333333333333333,
              "#9c179e"
             ],
             [
              0.4444444444444444,
              "#bd3786"
             ],
             [
              0.5555555555555556,
              "#d8576b"
             ],
             [
              0.6666666666666666,
              "#ed7953"
             ],
             [
              0.7777777777777778,
              "#fb9f3a"
             ],
             [
              0.8888888888888888,
              "#fdca26"
             ],
             [
              1,
              "#f0f921"
             ]
            ],
            "type": "histogram2d"
           }
          ],
          "histogram2dcontour": [
           {
            "colorbar": {
             "outlinewidth": 0,
             "ticks": ""
            },
            "colorscale": [
             [
              0,
              "#0d0887"
             ],
             [
              0.1111111111111111,
              "#46039f"
             ],
             [
              0.2222222222222222,
              "#7201a8"
             ],
             [
              0.3333333333333333,
              "#9c179e"
             ],
             [
              0.4444444444444444,
              "#bd3786"
             ],
             [
              0.5555555555555556,
              "#d8576b"
             ],
             [
              0.6666666666666666,
              "#ed7953"
             ],
             [
              0.7777777777777778,
              "#fb9f3a"
             ],
             [
              0.8888888888888888,
              "#fdca26"
             ],
             [
              1,
              "#f0f921"
             ]
            ],
            "type": "histogram2dcontour"
           }
          ],
          "mesh3d": [
           {
            "colorbar": {
             "outlinewidth": 0,
             "ticks": ""
            },
            "type": "mesh3d"
           }
          ],
          "parcoords": [
           {
            "line": {
             "colorbar": {
              "outlinewidth": 0,
              "ticks": ""
             }
            },
            "type": "parcoords"
           }
          ],
          "pie": [
           {
            "automargin": true,
            "type": "pie"
           }
          ],
          "scatter": [
           {
            "fillpattern": {
             "fillmode": "overlay",
             "size": 10,
             "solidity": 0.2
            },
            "type": "scatter"
           }
          ],
          "scatter3d": [
           {
            "line": {
             "colorbar": {
              "outlinewidth": 0,
              "ticks": ""
             }
            },
            "marker": {
             "colorbar": {
              "outlinewidth": 0,
              "ticks": ""
             }
            },
            "type": "scatter3d"
           }
          ],
          "scattercarpet": [
           {
            "marker": {
             "colorbar": {
              "outlinewidth": 0,
              "ticks": ""
             }
            },
            "type": "scattercarpet"
           }
          ],
          "scattergeo": [
           {
            "marker": {
             "colorbar": {
              "outlinewidth": 0,
              "ticks": ""
             }
            },
            "type": "scattergeo"
           }
          ],
          "scattergl": [
           {
            "marker": {
             "colorbar": {
              "outlinewidth": 0,
              "ticks": ""
             }
            },
            "type": "scattergl"
           }
          ],
          "scattermapbox": [
           {
            "marker": {
             "colorbar": {
              "outlinewidth": 0,
              "ticks": ""
             }
            },
            "type": "scattermapbox"
           }
          ],
          "scatterpolar": [
           {
            "marker": {
             "colorbar": {
              "outlinewidth": 0,
              "ticks": ""
             }
            },
            "type": "scatterpolar"
           }
          ],
          "scatterpolargl": [
           {
            "marker": {
             "colorbar": {
              "outlinewidth": 0,
              "ticks": ""
             }
            },
            "type": "scatterpolargl"
           }
          ],
          "scatterternary": [
           {
            "marker": {
             "colorbar": {
              "outlinewidth": 0,
              "ticks": ""
             }
            },
            "type": "scatterternary"
           }
          ],
          "surface": [
           {
            "colorbar": {
             "outlinewidth": 0,
             "ticks": ""
            },
            "colorscale": [
             [
              0,
              "#0d0887"
             ],
             [
              0.1111111111111111,
              "#46039f"
             ],
             [
              0.2222222222222222,
              "#7201a8"
             ],
             [
              0.3333333333333333,
              "#9c179e"
             ],
             [
              0.4444444444444444,
              "#bd3786"
             ],
             [
              0.5555555555555556,
              "#d8576b"
             ],
             [
              0.6666666666666666,
              "#ed7953"
             ],
             [
              0.7777777777777778,
              "#fb9f3a"
             ],
             [
              0.8888888888888888,
              "#fdca26"
             ],
             [
              1,
              "#f0f921"
             ]
            ],
            "type": "surface"
           }
          ],
          "table": [
           {
            "cells": {
             "fill": {
              "color": "#EBF0F8"
             },
             "line": {
              "color": "white"
             }
            },
            "header": {
             "fill": {
              "color": "#C8D4E3"
             },
             "line": {
              "color": "white"
             }
            },
            "type": "table"
           }
          ]
         },
         "layout": {
          "annotationdefaults": {
           "arrowcolor": "#2a3f5f",
           "arrowhead": 0,
           "arrowwidth": 1
          },
          "autotypenumbers": "strict",
          "coloraxis": {
           "colorbar": {
            "outlinewidth": 0,
            "ticks": ""
           }
          },
          "colorscale": {
           "diverging": [
            [
             0,
             "#8e0152"
            ],
            [
             0.1,
             "#c51b7d"
            ],
            [
             0.2,
             "#de77ae"
            ],
            [
             0.3,
             "#f1b6da"
            ],
            [
             0.4,
             "#fde0ef"
            ],
            [
             0.5,
             "#f7f7f7"
            ],
            [
             0.6,
             "#e6f5d0"
            ],
            [
             0.7,
             "#b8e186"
            ],
            [
             0.8,
             "#7fbc41"
            ],
            [
             0.9,
             "#4d9221"
            ],
            [
             1,
             "#276419"
            ]
           ],
           "sequential": [
            [
             0,
             "#0d0887"
            ],
            [
             0.1111111111111111,
             "#46039f"
            ],
            [
             0.2222222222222222,
             "#7201a8"
            ],
            [
             0.3333333333333333,
             "#9c179e"
            ],
            [
             0.4444444444444444,
             "#bd3786"
            ],
            [
             0.5555555555555556,
             "#d8576b"
            ],
            [
             0.6666666666666666,
             "#ed7953"
            ],
            [
             0.7777777777777778,
             "#fb9f3a"
            ],
            [
             0.8888888888888888,
             "#fdca26"
            ],
            [
             1,
             "#f0f921"
            ]
           ],
           "sequentialminus": [
            [
             0,
             "#0d0887"
            ],
            [
             0.1111111111111111,
             "#46039f"
            ],
            [
             0.2222222222222222,
             "#7201a8"
            ],
            [
             0.3333333333333333,
             "#9c179e"
            ],
            [
             0.4444444444444444,
             "#bd3786"
            ],
            [
             0.5555555555555556,
             "#d8576b"
            ],
            [
             0.6666666666666666,
             "#ed7953"
            ],
            [
             0.7777777777777778,
             "#fb9f3a"
            ],
            [
             0.8888888888888888,
             "#fdca26"
            ],
            [
             1,
             "#f0f921"
            ]
           ]
          },
          "colorway": [
           "#636efa",
           "#EF553B",
           "#00cc96",
           "#ab63fa",
           "#FFA15A",
           "#19d3f3",
           "#FF6692",
           "#B6E880",
           "#FF97FF",
           "#FECB52"
          ],
          "font": {
           "color": "#2a3f5f"
          },
          "geo": {
           "bgcolor": "white",
           "lakecolor": "white",
           "landcolor": "#E5ECF6",
           "showlakes": true,
           "showland": true,
           "subunitcolor": "white"
          },
          "hoverlabel": {
           "align": "left"
          },
          "hovermode": "closest",
          "mapbox": {
           "style": "light"
          },
          "paper_bgcolor": "white",
          "plot_bgcolor": "#E5ECF6",
          "polar": {
           "angularaxis": {
            "gridcolor": "white",
            "linecolor": "white",
            "ticks": ""
           },
           "bgcolor": "#E5ECF6",
           "radialaxis": {
            "gridcolor": "white",
            "linecolor": "white",
            "ticks": ""
           }
          },
          "scene": {
           "xaxis": {
            "backgroundcolor": "#E5ECF6",
            "gridcolor": "white",
            "gridwidth": 2,
            "linecolor": "white",
            "showbackground": true,
            "ticks": "",
            "zerolinecolor": "white"
           },
           "yaxis": {
            "backgroundcolor": "#E5ECF6",
            "gridcolor": "white",
            "gridwidth": 2,
            "linecolor": "white",
            "showbackground": true,
            "ticks": "",
            "zerolinecolor": "white"
           },
           "zaxis": {
            "backgroundcolor": "#E5ECF6",
            "gridcolor": "white",
            "gridwidth": 2,
            "linecolor": "white",
            "showbackground": true,
            "ticks": "",
            "zerolinecolor": "white"
           }
          },
          "shapedefaults": {
           "line": {
            "color": "#2a3f5f"
           }
          },
          "ternary": {
           "aaxis": {
            "gridcolor": "white",
            "linecolor": "white",
            "ticks": ""
           },
           "baxis": {
            "gridcolor": "white",
            "linecolor": "white",
            "ticks": ""
           },
           "bgcolor": "#E5ECF6",
           "caxis": {
            "gridcolor": "white",
            "linecolor": "white",
            "ticks": ""
           }
          },
          "title": {
           "x": 0.05
          },
          "xaxis": {
           "automargin": true,
           "gridcolor": "white",
           "linecolor": "white",
           "ticks": "",
           "title": {
            "standoff": 15
           },
           "zerolinecolor": "white",
           "zerolinewidth": 2
          },
          "yaxis": {
           "automargin": true,
           "gridcolor": "white",
           "linecolor": "white",
           "ticks": "",
           "title": {
            "standoff": 15
           },
           "zerolinecolor": "white",
           "zerolinewidth": 2
          }
         }
        },
        "title": {
         "text": "Evolução do Fator de Potência Corrigido ao Longo do Dia"
        },
        "xaxis": {
         "dtick": 1,
         "gridcolor": "lightgray",
         "range": [
          0,
          23
         ],
         "tickmode": "linear",
         "title": {
          "text": "Hora do Dia"
         }
        },
        "yaxis": {
         "gridcolor": "lightgray",
         "range": [
          0,
          1
         ],
         "title": {
          "text": "Fator de Potência"
         }
        }
       }
      }
     },
     "metadata": {},
     "output_type": "display_data"
    }
   ],
   "source": [
    "# Plotando as Curvas de Cargas Ativas\n",
    "\n",
    "fig = go.Figure()\n",
    "\n",
    "# Parâmetros do Gráfico\n",
    "fig.update_layout(\n",
    "    title='Evolução do Fator de Potência Corrigido ao Longo do Dia',\n",
    "    xaxis_title='Hora do Dia',\n",
    "    yaxis_title='Fator de Potência',\n",
    "    legend_title='Classificação',\n",
    "    plot_bgcolor='white',\n",
    "    font=dict(\n",
    "        family='Arial',\n",
    "        size=15,\n",
    "        color='black'\n",
    "    ),\n",
    "    xaxis=dict(\n",
    "        gridcolor='lightgray',\n",
    "        tickmode = 'linear',\n",
    "        dtick = 1,\n",
    "        range=[0,23]\n",
    "    ),\n",
    "    yaxis=dict(\n",
    "        gridcolor='lightgray',\n",
    "        range=[0,1]\n",
    "    )\n",
    ")\n",
    "\n",
    "# Calculando a evolução do Fator de Potência \n",
    "df['FP Corrigido'] = ((df['Reativo Consumido']-df['Banco de Capacitores Escolhido'].apply(lambda x: 0 if x == '-' else x))/df['Potência Total']).apply(np.arctan).apply(np.cos)\n",
    "\n",
    "fig.add_hrect(\n",
    "    y0=0.94, \n",
    "    y1=1.00, \n",
    "    line_width=0, \n",
    "    fillcolor='green', \n",
    "    opacity=0.2,\n",
    "    layer='below')\n",
    "\n",
    "fig.add_hrect(\n",
    "    y0=0.92, \n",
    "    y1=0.94, \n",
    "    line_width=0, \n",
    "    fillcolor='yellow', \n",
    "    opacity=0.2,\n",
    "    layer='below')\n",
    "\n",
    "fig.add_hrect(\n",
    "    y0=0.00, \n",
    "    y1=0.92, \n",
    "    line_width=0, \n",
    "    fillcolor='red', \n",
    "    opacity=0.2,\n",
    "    layer='below')\n",
    "\n",
    "fig.add_trace(go.Scatter(\n",
    "    x=df['Hora'],\n",
    "    y=df['FP Corrigido'].apply(lambda x: x if x > 0.92 else None), # Somente os pontos que estão dentro da norma\n",
    "    name='Nível Adequado',\n",
    "    mode='markers',\n",
    "    marker=dict(\n",
    "            size=7,\n",
    "            color='forestgreen'\n",
    "        )\n",
    "    )\n",
    ")\n",
    "\n",
    "fig.add_trace(go.Scatter(\n",
    "    x=df['Hora'],\n",
    "    y=df['FP Corrigido'].apply(lambda x: x if x <= 0.92 else None), # Somente os pontos que estão fora do padrão\n",
    "    name='Fora do Padrão',\n",
    "    mode='markers',\n",
    "    marker=dict(\n",
    "            size=7,\n",
    "            color='crimson'\n",
    "        )\n",
    "    )\n",
    ")\n",
    "\n",
    "fig.add_trace(go.Scatter(\n",
    "    x=df['Hora'],\n",
    "    y=np.full(24, 0.92),\n",
    "    name='Fator Mínimo Exigido',\n",
    "    line=dict(\n",
    "            width=0.5,\n",
    "            dash='dash',\n",
    "            color='black'\n",
    "        )\n",
    "    )\n",
    ")\n",
    "\n",
    "fig.show()\n"
   ]
  },
  {
   "cell_type": "markdown",
   "metadata": {},
   "source": [
    "## Questão 02\n",
    "\n",
    "Considerando o banco de capacitores especificado na questão anterior, apresente o orçamento detalhado dos materiais para compra e montagem de um banco de capacitores trifásico (380 V Fase-Fase), utilizando o controlador automático de fator de potência modelo PFW01-M06 da WEG. \n",
    "\n",
    "A lista de materiais deve apresentar: \n",
    "- Capacitores\n",
    "- Controlador\n",
    "- Disjuntores\n",
    "- Contatores para Manobra de Capacitores\n",
    "- Chaves\n",
    "- Sinaleiros \n",
    "- Quadro de Comando\n",
    "\n",
    "---"
   ]
  },
  {
   "cell_type": "markdown",
   "metadata": {},
   "source": [
    "# Orçamento do Projeto\n",
    "\n",
    "### Células Capacitivas\n",
    "\n",
    "Carga capacitiva responsável pela correção do Fator de Potência.\n",
    "\n",
    "|     | Unidades Capacitivas (kVAr) | Preços                                                                                                                                                                                                                   |\n",
    "| --- | -------------------- | ------------------------------------------------------------------------------------------------------------------------------------------------------------------------------------------------------------------------ |\n",
    "| C1  | 3                    | [R$ 198,58](https://produto.mercadolivre.com.br/MLB-2627006956-capacitor-trifasico-weg-3kvar-380v-ucwt3v40l10hd-_JM#position=5&search_layout=stack&type=item&tracking_id=eb587902-7d6a-4429-80ae-f96dcc790606)           |\n",
    "| C2  | 7,5                  | [R$ 318,26](https://produto.mercadolivre.com.br/MLB-2626263609-unidade-capacitiva-trifasica-weg-75kvar-380v-ucwt75v40n20h-_JM#position=8&search_layout=stack&type=item&tracking_id=465a4515-a84e-4aa3-8920-9109b5978217) |\n",
    "| C3  | 10                   | [R$ 368,97](https://produto.mercadolivre.com.br/MLB-2095887451-unidade-capacitiva-trifasica-weg-ucwt10v40n20-10kvar-380v-_JM#position=3&search_layout=stack&type=item&tracking_id=465a4515-a84e-4aa3-8920-9109b5978217)  |\n",
    "| C4  | 17,5                 | [R$ 764,96](https://produto.mercadolivre.com.br/MLB-2817749204-capacitor-correco-fator-potncia-175kvar-380v-trifasico-_JM#position=4&search_layout=stack&type=item&tracking_id=802421f3-4b13-4bf2-9872-845d90d7d5f4)     |\n",
    "| C5  | 25                   | [R$ 763,80](https://produto.mercadolivre.com.br/MLB-2075245921-unidade-capacitiva-trifasica-25kvar-380v-_JM#position=7&search_layout=stack&type=item&tracking_id=7f4d83dd-8250-49c9-a1ea-70964b131d6e)                   |\n",
    "| C6  | 35                   | [R$ 1.126,66](https://produto.mercadolivre.com.br/MLB-2075245921-unidade-capacitiva-trifasica-25kvar-380v-_JM#position=7&search_layout=stack&type=item&tracking_id=7f4d83dd-8250-49c9-a1ea-70964b131d6e)                 |\n",
    "\n",
    "\n",
    "### Contatores\n",
    "\n",
    "Dispositivo eletromecânico que permite a comutação de altas correntes.\n",
    "\n",
    "|     | Contatores | Preços                                                                                                                                                                                                                                                                     |\n",
    "| --- | ---------- | -------------------------------------------------------------------------------------------------------------------------------------------------------------------------------------------------------------------------------------------------------------------------- |\n",
    "| C1  | CWMC18     | [R$ 249,00](https://www.mercadolivre.com.br/contator-para-capacitor-8kvar-220v-15kvar-380v-tripolar/p/MLB26819836?pdp_filters=category:MLB270071#searchVariation=MLB26819836&position=1&search_layout=stack&type=product&tracking_id=09f327b6-3bab-4ec9-a04e-cb326703b143) |\n",
    "| C2  | CWMC18     | [R$ 249,00](https://www.mercadolivre.com.br/contator-para-capacitor-8kvar-220v-15kvar-380v-tripolar/p/MLB26819836?pdp_filters=category:MLB270071#searchVariation=MLB26819836&position=1&search_layout=stack&type=product&tracking_id=09f327b6-3bab-4ec9-a04e-cb326703b143) |\n",
    "| C3  | CWMC18,    | [R$ 249,00](https://www.mercadolivre.com.br/contator-para-capacitor-8kvar-220v-15kvar-380v-tripolar/p/MLB26819836?pdp_filters=category:MLB270071#searchVariation=MLB26819836&position=1&search_layout=stack&type=product&tracking_id=09f327b6-3bab-4ec9-a04e-cb326703b143) |\n",
    "| C4  | CWMC25     | [R$ 262,24](https://produto.mercadolivre.com.br/MLB-2744792659-contator-para-capacitor-6kvar-220v-10kvar-380v-tripolar-_JM#position=15&search_layout=stack&type=item&tracking_id=5f1e7235-c410-416a-93d6-bdb68780559b)                                                     |\n",
    "| C5  | CWMC32     | [R$ 355,63](https://produto.mercadolivre.com.br/MLB-3167454552-contator-tripolar-32a-380vca-cwm-weg-i-_JM#position=11&search_layout=stack&type=item&tracking_id=0fc366f6-d76f-418e-9d1f-77c522ee3a2a)                                                                      |\n",
    "| C6  | CWMC50     | [R$ 727,60](https://produto.mercadolivre.com.br/MLB-2683928171-contator-para-capacitor-25kvar-220v-40kvar-380v-tripolar-_JM#position=3&search_layout=stack&type=item&tracking_id=1d7cebb7-cb4a-420f-8221-67cb8a157a0f)                                                     |\n",
    "\n",
    "### Disjuntores\n",
    "\n",
    "Dispositivo responsável por proteger a rede de correntes elétricas acima do nível esperado.\n",
    "\n",
    "|     | Disjuntores                | Preços   |\n",
    "| --- | -------------------------- | -------- |\n",
    "| C1  | Soprano Curva C 10A        | [R$ 40,47](https://produto.mercadolivre.com.br/MLB-2732150356-disjuntor-tripolar-din-6a10a16a20a25a32a-1un-_JM?matt_tool=14372353&matt_word=&matt_source=google&matt_campaign_id=14302215552&matt_ad_group_id=150145935327&matt_match_type=&matt_network=g&matt_device=c&matt_creative=649558500191&matt_keyword=&matt_ad_position=&matt_ad_type=pla_with_promotion&matt_merchant_id=478847011&matt_product_id=MLB2732150356&matt_product_partition_id=2016650229967&matt_target_id=aud-1966981570049:pla-2016650229967&gclid=Cj0KCQjwy4KqBhD0ARIsAEbCt6h4OBfd-Vt67CxcuNBz6A9QbNa4z9Ktr1ig-yYCgb6kFznOWW-4Fz4aAobbEALw_wcB) |\n",
    "| C2  | Soprano Curva C 16A        | [R$ 40,47](https://produto.mercadolivre.com.br/MLB-2732150356-disjuntor-tripolar-din-6a10a16a20a25a32a-1un-_JM?matt_tool=14372353&matt_word=&matt_source=google&matt_campaign_id=14302215552&matt_ad_group_id=150145935327&matt_match_type=&matt_network=g&matt_device=c&matt_creative=649558500191&matt_keyword=&matt_ad_position=&matt_ad_type=pla_with_promotion&matt_merchant_id=478847011&matt_product_id=MLB2732150356&matt_product_partition_id=2016650229967&matt_target_id=aud-1966981570049:pla-2016650229967&gclid=Cj0KCQjwy4KqBhD0ARIsAEbCt6h4OBfd-Vt67CxcuNBz6A9QbNa4z9Ktr1ig-yYCgb6kFznOWW-4Fz4aAobbEALw_wcB) |\n",
    "| C3  | Soprano Curva C 16A        | [R$ 40,47](https://produto.mercadolivre.com.br/MLB-2732150356-disjuntor-tripolar-din-6a10a16a20a25a32a-1un-_JM?matt_tool=14372353&matt_word=&matt_source=google&matt_campaign_id=14302215552&matt_ad_group_id=150145935327&matt_match_type=&matt_network=g&matt_device=c&matt_creative=649558500191&matt_keyword=&matt_ad_position=&matt_ad_type=pla_with_promotion&matt_merchant_id=478847011&matt_product_id=MLB2732150356&matt_product_partition_id=2016650229967&matt_target_id=aud-1966981570049:pla-2016650229967&gclid=Cj0KCQjwy4KqBhD0ARIsAEbCt6h4OBfd-Vt67CxcuNBz6A9QbNa4z9Ktr1ig-yYCgb6kFznOWW-4Fz4aAobbEALw_wcB) |\n",
    "| C4  | WEG tripolar Curva C 32A   | [R$ 45,62](https://www.mercadolivre.com.br/minidisjuntor-weg-mdw-c32-3-tripolar-32-a-10076441/p/MLB11052382?from=gshop&matt_tool=14372353&matt_word=&matt_source=google&matt_campaign_id=14302215552&matt_ad_group_id=150145935327&matt_match_type=&matt_network=g&matt_device=c&matt_creative=649558500191&matt_keyword=&matt_ad_position=&matt_ad_type=pla&matt_merchant_id=735125422&matt_product_id=MLB11052382-product&matt_product_partition_id=2016650229967&matt_target_id=aud-1966981570049:pla-2016650229967&gclid=Cj0KCQjwy4KqBhD0ARIsAEbCt6hYs3CrgvmKke3EoDwfLnh7IEo3M2QvPYSlYcyiwERKRtrOtKy2mKgaAj0DEALw_wcB) |\n",
    "| C5  | WEG tripolar Curva C 40A   | [R$ 62,00](https://produto.mercadolivre.com.br/MLB-2689618224-disjuntor-weg-tripolar-curva-c-10a-16a-20a-25a-32a-40a-_JM?attributes=YW1wZXJhZ2Vt%3ANDBB&quantity=1) |\n",
    "| C6  | Steck Tripolar Curva C 63A | [R$ 70,00](https://www.amazon.com.br/Steck-SDD63C63-Disjuntor-S%C3%A9rie-Curva/dp/B077VR7SF8/ref=asc_df_B077VR7SF8/?tag=googleshopp00-20&linkCode=df0&hvadid=379751084590&hvpos=&hvnetw=g&hvrand=980462233901583076&hvpone=&hvptwo=&hvqmt=&hvdev=c&hvdvcmdl=&hvlocint=&hvlocphy=1001621&hvtargid=pla-960706203064&psc=1) |\n",
    "\n",
    "### Controlador\n",
    "\n",
    "Dispositivo de controle do chaveamento automático das células.\n",
    "\n",
    "| Controlador | Preço                                                                                                                                                                                                                     |\n",
    "| ----------- | ------------------------------------------------------------------------------------------------------------------------------------------------------------------------------------------------------------------------- |\n",
    "| PFW01-M06   | [R$ 3.999,00](https://produto.mercadolivre.com.br/MLB-3768216452-controlador-fator-de-potencia-weg-pfw01-m06-mono-6-etapas-_JM#position=4&search_layout=stack&type=item&tracking_id=8f26e94b-851c-4513-9c63-3092deb11a61) |\n",
    "\n",
    "### Chaves\n",
    "\n",
    "Chaves para o acionamento manual das células.\n",
    "\n",
    "| Chaves                         | Unidades | Preço    |\n",
    "| ------------------------------ | -------- | -------- |\n",
    "| Chave Seccionadora 3 pólos 63A | 6        | [R$ 99,50](https://www.mercadolivre.com.br/chave-seccionadora-3-polos-63a-kp3-63-3p-metaltex/p/MLB22303707?from=gshop&matt_tool=45029758&matt_word=&matt_source=google&matt_campaign_id=14302215522&matt_ad_group_id=150145935567&matt_match_type=&matt_network=g&matt_device=c&matt_creative=649558500182&matt_keyword=&matt_ad_position=&matt_ad_type=pla_with_promotion&matt_merchant_id=735098660&matt_product_id=MLB22303707-product&matt_product_partition_id=1962976109513&matt_target_id=aud-1966981570049:pla-1962976109513&gclid=Cj0KCQjwy4KqBhD0ARIsAEbCt6gqO0XT3SGeeO2rUEHvG_RJP2JcW6f7VmEt_fSYO9aDGzKBV3TEMsAaAh23EALw_wcB) |\n",
    "\n",
    "### Sinaleiros\n",
    "\n",
    "Indicadores do chaveamento das células.\n",
    "\n",
    "| Sinaleiros                             | Unidades | Preço    |\n",
    "| -------------------------------------- | -------- | -------- |\n",
    "| Sinalizador Led 380v Verde Ip 65 Steck | 6        | [R$ 43,00](https://produto.mercadolivre.com.br/MLB-2040656464-sinalizador-led-380v-verde-ip-65-steck-_JM?matt_tool=54307261&matt_word=&matt_source=google&matt_campaign_id=14302215582&matt_ad_group_id=150145935487&matt_match_type=&matt_network=g&matt_device=c&matt_creative=649558500194&matt_keyword=&matt_ad_position=&matt_ad_type=pla_with_promotion&matt_merchant_id=135392870&matt_product_id=MLB2040656464&matt_product_partition_id=1961609798046&matt_target_id=aud-1966981570049:pla-1961609798046&gclid=Cj0KCQjwy4KqBhD0ARIsAEbCt6h9HwUM-_S3uSTNe83zYSzjvAFaVoeGLNPzlPKk6FfcsBubvCjzSxYaArJ0EALw_wcB) |\n",
    "\n",
    "### Quadro de Comando\n",
    "\n",
    "Estrutura de encapsulamento do projeto.\n",
    "\n",
    "| Quadro de Comando                                | Preço                                                                                                                                                                                                                                                                                             |\n",
    "| ------------------------------------------------ | ------------------------------------------------------------------------------------------------------------------------------------------------------------------------------------------------------------------------------------------------------------------------------------------------- |\n",
    "| Quadro Comando Hermética Ral 7032 - Weg 80x60x20 | [R$ 565,25](https://www.mercadolivre.com.br/caixa-painel-eletrico-60x50x20-quadro-comando-hermetica-cor-cinza-ral-7032-weg/p/MLB24590340?pdp_filters=category:MLB435347#searchVariation=MLB24590340&position=3&search_layout=stack&type=product&tracking_id=ef201e8e-1c8c-4ce6-a49f-097861f60b16) |\n",
    "\n",
    "---"
   ]
  },
  {
   "cell_type": "markdown",
   "metadata": {},
   "source": [
    "## Relatório Financeiro Final\n",
    "\n",
    "|                      |              |\n",
    "| -------------------- | ------------ |\n",
    "| Gasto Material Total | R$ 11.351,98 |\n",
    "| Mão de Obra          | R$ 20.000,00 |\n",
    "| **Projeto Total**       | **R$ 31.351,98** |\n",
    "\n",
    "---"
   ]
  }
 ],
 "metadata": {
  "kernelspec": {
   "display_name": "Python 3",
   "language": "python",
   "name": "python3"
  },
  "language_info": {
   "codemirror_mode": {
    "name": "ipython",
    "version": 3
   },
   "file_extension": ".py",
   "mimetype": "text/x-python",
   "name": "python",
   "nbconvert_exporter": "python",
   "pygments_lexer": "ipython3",
   "version": "3.11.0"
  }
 },
 "nbformat": 4,
 "nbformat_minor": 2
}
